{
 "cells": [
  {
   "cell_type": "code",
   "execution_count": 1,
   "metadata": {},
   "outputs": [],
   "source": [
    "import numpy as np\n",
    "from scipy import stats"
   ]
  },
  {
   "cell_type": "code",
   "execution_count": 2,
   "metadata": {},
   "outputs": [],
   "source": [
    "# Example PN-Tree\n",
    "PN_Types_Net = '''YouLike1 | Exploit | Personalized | RootNode\n",
    "YouLike2 | Exploit | Personalized | RootNode\n",
    "BecauseYouLike1 | Explore | Personalized | RootNode\n",
    "BecauseYouLike2 | Explore | Personalized | RootNode\n",
    "Supply1 | Non-Personalized | RootNode\n",
    "Supply2 | Non-Personalized | RootNode'''"
   ]
  },
  {
   "cell_type": "code",
   "execution_count": 3,
   "metadata": {},
   "outputs": [],
   "source": [
    "# Mapping child node to parent node & parent node to child node\n",
    "ChildParentDict = {}\n",
    "ParentChildDict = {}\n",
    "PNs = []\n",
    "\n",
    "for eachPN in PN_Types_Net.split('\\n'):\n",
    "    path = [eNode.strip() for eNode in eachPN.split('|') if len(eNode) > 1]\n",
    "    if len(path) > 0:\n",
    "        PNs.append(path[0])\n",
    "    for child, parent in zip(path, path[1:]):\n",
    "        ChildParentDict[child]  = parent\n",
    "        if parent in ParentChildDict:\n",
    "            ParentChildDict[parent].add(child)\n",
    "        else:\n",
    "            ParentChildDict[parent] = {child}        \n"
   ]
  },
  {
   "cell_type": "code",
   "execution_count": 4,
   "metadata": {},
   "outputs": [
    {
     "data": {
      "text/plain": [
       "{'PopType1': {'YouLike1': {'clicks': 200, 'impressions': 10000},\n",
       "  'YouLike2': {'clicks': 25, 'impressions': 1000},\n",
       "  'BecauseYouLike1': {'clicks': 100, 'impressions': 10000},\n",
       "  'BecauseYouLike2': {'clicks': 15, 'impressions': 1000},\n",
       "  'Supply1': {'clicks': 20, 'impressions': 10000},\n",
       "  'Supply2': {'clicks': 400, 'impressions': 100000}}}"
      ]
     },
     "execution_count": 4,
     "metadata": {},
     "output_type": "execute_result"
    }
   ],
   "source": [
    "# PN's performance till date\n",
    "# sub population under consider is PopType1(context), for every context we are going to maintain this dictionary \n",
    "\n",
    "PNsAlphaBeta = {}\n",
    "PNsAlphaBeta['PopType1'] = {}\n",
    "PNsAlphaBeta['PopType1']['YouLike1']        = {'clicks': 200,  'impressions': 10000}\n",
    "PNsAlphaBeta['PopType1']['YouLike2']        = {'clicks': 25,   'impressions': 1000}\n",
    "PNsAlphaBeta['PopType1']['BecauseYouLike1'] = {'clicks': 100,  'impressions': 10000}\n",
    "PNsAlphaBeta['PopType1']['BecauseYouLike2'] = {'clicks': 15,   'impressions': 1000}\n",
    "PNsAlphaBeta['PopType1']['Supply1']         = {'clicks': 20,   'impressions': 10000}\n",
    "PNsAlphaBeta['PopType1']['Supply2']         = {'clicks': 400,  'impressions': 100000}\n",
    "\n",
    "PNsAlphaBeta\n"
   ]
  },
  {
   "cell_type": "code",
   "execution_count": 5,
   "metadata": {},
   "outputs": [],
   "source": [
    "# computing some global variables, which will be used in downstream logic\n",
    "nodeSet = set()\n",
    "heightOfTheTree = 1\n",
    "allPaths = []\n",
    "for eachPN in PN_Types_Net.split('\\n'):\n",
    "    path = [eNode.strip() for eNode in eachPN.split('|') if len(eNode) > 1]\n",
    "    for node in path:\n",
    "        nodeSet.add(node)\n",
    "    allPaths.append(path) \n",
    "    if len(path) > heightOfTheTree:\n",
    "        heightOfTheTree = len(path)"
   ]
  },
  {
   "cell_type": "code",
   "execution_count": 6,
   "metadata": {},
   "outputs": [
    {
     "name": "stdout",
     "output_type": "stream",
     "text": [
      "No Of Nodes in our reference tree:\t 11\n",
      "nodeIdToIndex mapping:\t {'YouLike1': 11, 'YouLike2': 10, 'BecauseYouLike1': 9, 'BecauseYouLike2': 8, 'Supply1': 7, 'Supply2': 6, 'Exploit': 5, 'Explore': 4, 'Non-Personalized': 3, 'Personalized': 2, 'RootNode': 1}\n"
     ]
    }
   ],
   "source": [
    "# mapping nodeid to node index to index nodeid in matrix\n",
    "noOfNodes = len(nodeSet)\n",
    "nodeIdx = noOfNodes\n",
    "nodeIdToIndex = {}\n",
    "for idx in range(heightOfTheTree):\n",
    "    for path in allPaths:\n",
    "        if len( path[idx:idx+1] ) > 0:\n",
    "            if path[idx:idx+1][0] not in nodeIdToIndex:\n",
    "                nodeIdToIndex[path[idx:idx+1][0]] = nodeIdx\n",
    "                nodeIdx = nodeIdx - 1\n",
    "print('No Of Nodes in our reference tree:\\t', noOfNodes)\n",
    "print('nodeIdToIndex mapping:\\t', nodeIdToIndex)             "
   ]
  },
  {
   "cell_type": "code",
   "execution_count": 7,
   "metadata": {},
   "outputs": [],
   "source": [
    "# clicks ( sum of every column in resultant's matrix corresponds to total clicks in that branch )\n",
    "clicks = np.zeros ( (len(nodeIdToIndex), len(nodeIdToIndex) ))\n",
    "nodeIdToIndex_items = list(nodeIdToIndex.items())\n",
    "nodeIdToIndex_items.sort(key=lambda x:x[1], reverse=True)\n",
    "\n",
    "# for all terminal nodes\n",
    "for path in allPaths:\n",
    "    clicks[nodeIdToIndex[path[0]]-1][nodeIdToIndex[path[0]]-1] = PNsAlphaBeta['PopType1'][ path[0] ]['clicks']    \n",
    "\n",
    "# total clicks @ every non-terminal nodes\n",
    "for path in allPaths:\n",
    "    for child, parent in zip(path, path[1:]):        \n",
    "        childIdx  = nodeIdToIndex[child]-1\n",
    "        parentIdx = nodeIdToIndex[ChildParentDict[child]]-1\n",
    "        clicks[ childIdx ][ parentIdx ] = sum(clicks[:, childIdx ])"
   ]
  },
  {
   "cell_type": "code",
   "execution_count": 8,
   "metadata": {},
   "outputs": [],
   "source": [
    "np.savetxt(\"/Users/viswanath.g/Desktop/clicks.csv\", clicks, delimiter=\",\")"
   ]
  },
  {
   "cell_type": "code",
   "execution_count": 9,
   "metadata": {},
   "outputs": [],
   "source": [
    "# impressions ( sum of every column in resultant's matrix corresponds to total impressions in that branch )\n",
    "impressions = np.zeros ( (len(nodeIdToIndex), len(nodeIdToIndex) ))\n",
    "nodeIdToIndex_items = list(nodeIdToIndex.items())\n",
    "nodeIdToIndex_items.sort(key=lambda x:x[1], reverse=True)\n",
    "\n",
    "# all terminal nodes\n",
    "for path in allPaths:\n",
    "    impressions[nodeIdToIndex[path[0]]-1][nodeIdToIndex[path[0]]-1] = PNsAlphaBeta['PopType1'][ path[0] ]['impressions']    \n",
    "\n",
    "# total impressions @ every non-terminal nodes\n",
    "for path in allPaths:\n",
    "    for child, parent in zip(path, path[1:]):        \n",
    "        childIdx  = nodeIdToIndex[child]-1\n",
    "        parentIdx = nodeIdToIndex[ChildParentDict[child]]-1\n",
    "        impressions[ childIdx ][ parentIdx ] = sum(impressions[:, childIdx ])"
   ]
  },
  {
   "cell_type": "code",
   "execution_count": 10,
   "metadata": {},
   "outputs": [],
   "source": [
    "np.savetxt(\"/Users/viswanath.g/Desktop/impressions.csv\", impressions, delimiter=\",\")"
   ]
  },
  {
   "cell_type": "code",
   "execution_count": 11,
   "metadata": {},
   "outputs": [
    {
     "data": {
      "text/plain": [
       "{'YouLike1': 0.016927735463418688,\n",
       " 'YouLike2': 0.018208336613166686,\n",
       " 'BecauseYouLike1': 0.012124057417304207,\n",
       " 'BecauseYouLike2': 0.014320564347795444,\n",
       " 'Supply1': 0.0028307026615382517,\n",
       " 'Supply2': 0.003981454588199759}"
      ]
     },
     "execution_count": 11,
     "metadata": {},
     "output_type": "execute_result"
    }
   ],
   "source": [
    "# sampling ctrs for every terminal of the node ( which is nothing but every PN)\n",
    "sampled_cts = {}\n",
    "for path in allPaths:\n",
    "    sampled_ctrs_per_path = []\n",
    "    child = path[0]\n",
    "    while child in ChildParentDict:\n",
    "        childIdx  = nodeIdToIndex[child]-1 \n",
    "        alpha_ = sum(clicks[:,childIdx])\n",
    "        beta_  = sum(impressions[:,childIdx]) - sum(clicks[:,childIdx])\n",
    "        child  = ChildParentDict[ child ]\n",
    "        sampled_ctrs_per_path.append( stats.beta.rvs(alpha_, beta_, size=1)[0] )\n",
    "    sampled_cts[path[0]] = sum(sampled_ctrs_per_path) / len(sampled_ctrs_per_path)\n",
    "sampled_cts    "
   ]
  },
  {
   "cell_type": "code",
   "execution_count": null,
   "metadata": {},
   "outputs": [],
   "source": []
  }
 ],
 "metadata": {
  "kernelspec": {
   "display_name": "Python 3",
   "language": "python",
   "name": "python3"
  },
  "language_info": {
   "codemirror_mode": {
    "name": "ipython",
    "version": 3
   },
   "file_extension": ".py",
   "mimetype": "text/x-python",
   "name": "python",
   "nbconvert_exporter": "python",
   "pygments_lexer": "ipython3",
   "version": "3.7.4"
  }
 },
 "nbformat": 4,
 "nbformat_minor": 2
}
