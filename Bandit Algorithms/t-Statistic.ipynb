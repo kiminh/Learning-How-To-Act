{
 "cells": [
  {
   "cell_type": "code",
   "execution_count": 1,
   "metadata": {},
   "outputs": [],
   "source": [
    "import numpy as np\n",
    "from scipy.stats import bernoulli"
   ]
  },
  {
   "cell_type": "code",
   "execution_count": 11,
   "metadata": {},
   "outputs": [
    {
     "name": "stdout",
     "output_type": "stream",
     "text": [
      "0.01 0.09949874371066199 0.0\n",
      "0.008 0.08908422980528034 -0.002\n",
      "0.008 0.08908422980528033 -0.002\n",
      "0.004 0.063118935352238 -0.006\n",
      "0.012 0.1088852607105296 0.002\n",
      "0.005 0.07053367989832944 -0.005\n",
      "0.006 0.07722693830523131 -0.004\n",
      "0.004 0.063118935352238 -0.006\n",
      "0.015 0.12155245781143219 0.004999999999999999\n",
      "0.009 0.09444045743218316 -0.0010000000000000009\n"
     ]
    }
   ],
   "source": [
    "for i in range(10):\n",
    "    sample = bernoulli.rvs(size=1000,p=0.01)\n",
    "    print(np.mean(sample), np.std(sample), (np.mean(sample)-0.01))"
   ]
  },
  {
   "cell_type": "code",
   "execution_count": null,
   "metadata": {},
   "outputs": [],
   "source": []
  }
 ],
 "metadata": {
  "kernelspec": {
   "display_name": "Python 3",
   "language": "python",
   "name": "python3"
  },
  "language_info": {
   "codemirror_mode": {
    "name": "ipython",
    "version": 3
   },
   "file_extension": ".py",
   "mimetype": "text/x-python",
   "name": "python",
   "nbconvert_exporter": "python",
   "pygments_lexer": "ipython3",
   "version": "3.7.4"
  }
 },
 "nbformat": 4,
 "nbformat_minor": 2
}
