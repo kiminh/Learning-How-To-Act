{
 "cells": [
  {
   "cell_type": "code",
   "execution_count": 84,
   "metadata": {},
   "outputs": [],
   "source": [
    "from collections import Counter\n",
    "from scipy.stats import beta, bernoulli\n",
    "import numpy as np"
   ]
  },
  {
   "cell_type": "code",
   "execution_count": 138,
   "metadata": {},
   "outputs": [],
   "source": [
    "# Context-Free Bandit implementation\n",
    "class TS():\n",
    "    def __init__(self, arm_ids) :\n",
    "        self.arm_ids = arm_ids\n",
    "        self.counts = {}\n",
    "        self.values = {}\n",
    "        self.beta_params = {}\n",
    "        for idx, arm_id in enumerate(arm_ids):\n",
    "            self.counts[arm_id] = 0\n",
    "            self.values[arm_id] = 0.0\n",
    "            self.beta_params[arm_id] = {}\n",
    "            self.beta_params[arm_id]['success'] = 1\n",
    "            self.beta_params[arm_id]['failure'] = 1\n",
    "            \n",
    "    def select_arm ( self ):\n",
    "        sample_success_rates = []\n",
    "        for idx, arm_id in enumerate(self.arm_ids):\n",
    "            sample_success_rates.append( \n",
    "                (\n",
    "                    arm_id,\n",
    "                    beta.rvs( tsObj.beta_params[arm_id]['success'], tsObj.beta_params[arm_id]['failure'])\n",
    "                )\n",
    "            )\n",
    "        return max(sample_success_rates,key=lambda x:x[1])\n",
    "    \n",
    "    def update( self, chosen_arm, reward ):\n",
    "        self.counts[chosen_arm] += 1\n",
    "        n = self.counts[chosen_arm]\n",
    "        \n",
    "        value = self.values[ chosen_arm ]\n",
    "        new_value = ( (n-1)* value + reward ) / float(n)\n",
    "        self.values[chosen_arm] = new_value        "
   ]
  },
  {
   "cell_type": "code",
   "execution_count": 140,
   "metadata": {},
   "outputs": [
    {
     "data": {
      "text/plain": [
       "Counter({3: 4533, 1: 43, 2: 424})"
      ]
     },
     "execution_count": 140,
     "metadata": {},
     "output_type": "execute_result"
    }
   ],
   "source": [
    "true_reward_rates = {\n",
    "    1: 0.45,\n",
    "    2: 0.47,\n",
    "    3: 0.5\n",
    "}\n",
    "\n",
    "noOfTrails = 5000\n",
    "tsObj = TS( true_reward_rates.keys() ) \n",
    "\n",
    "tCnter = Counter()\n",
    "\n",
    "for t in range(noOfTrails):\n",
    "\n",
    "    chosen_arm, sample_reward_rate = tsObj.select_arm()\n",
    "    tCnter[chosen_arm]  += 1\n",
    "    bernoulli_reward = bernoulli.rvs(true_reward_rates[chosen_arm])\n",
    "    if bernoulli_reward == 1:\n",
    "        tsObj.beta_params[chosen_arm]['success'] += 1\n",
    "    else:\n",
    "        tsObj.beta_params[chosen_arm]['failure'] += 1\n",
    "    \n",
    "tsObj.beta_params  \n",
    "tCnter"
   ]
  }
 ],
 "metadata": {
  "kernelspec": {
   "display_name": "Python 3",
   "language": "python",
   "name": "python3"
  },
  "language_info": {
   "codemirror_mode": {
    "name": "ipython",
    "version": 3
   },
   "file_extension": ".py",
   "mimetype": "text/x-python",
   "name": "python",
   "nbconvert_exporter": "python",
   "pygments_lexer": "ipython3",
   "version": "3.7.4"
  }
 },
 "nbformat": 4,
 "nbformat_minor": 2
}
