{
 "cells": [
  {
   "cell_type": "code",
   "execution_count": 3,
   "metadata": {},
   "outputs": [],
   "source": [
    "import numpy as np\n",
    "import pandas as pd\n",
    "from sklearn.linear_model import LinearRegression\n"
   ]
  },
  {
   "cell_type": "code",
   "execution_count": 48,
   "metadata": {},
   "outputs": [],
   "source": [
    "# Data Generation\n",
    "def generate_data(n=1000, seed=0, beta1=1.05, alpha1=0.4, alpha2=0.3, binary_treatment=True, binary_cutoff=3.5):\n",
    "    np.random.seed(seed)\n",
    "    age = np.random.normal(65, 5, n)\n",
    "    sodium = age / 18 + np.random.normal(size=n)\n",
    "    if binary_treatment:\n",
    "        if binary_cutoff is None:\n",
    "            binary_cutoff = sodium.mean()\n",
    "        sodium = (sodium > binary_cutoff).astype(int)\n",
    "\n",
    "    blood_pressure = beta1 * sodium + 2 * age + np.random.normal(size=n)\n",
    "    proteinurin = alpha1 * sodium + alpha2 * blood_pressure + np.random.normal(size=n)\n",
    "    hypertension = (blood_pressure >= 140).astype(int)  # not used, but could be used for binary outcomes\n",
    "        \n",
    "    outDF = pd.DataFrame(\n",
    "                    {\n",
    "                        'blood_pressure': blood_pressure, \n",
    "                        'sodium': sodium,\n",
    "                        'age': age, \n",
    "                        'proteinurin': proteinurin}\n",
    "            )\n",
    "        \n",
    "    return outDF       "
   ]
  },
  {
   "cell_type": "code",
   "execution_count": 85,
   "metadata": {},
   "outputs": [],
   "source": [
    "def estimate_causal_effect(Xt, y, model=LinearRegression(), treatment_idx=0, regression_coef=False):\n",
    "    model.fit(Xt, y)\n",
    "    if regression_coef:\n",
    "        return model.coef_[treatment_idx]\n",
    "    else:\n",
    "        Xt1 = pd.DataFrame.copy(Xt)        \n",
    "        Xt1[Xt.columns[treatment_idx]] = 1\n",
    "        Xt0 = pd.DataFrame.copy(Xt)\n",
    "        Xt0[Xt.columns[treatment_idx]] = 0\n",
    "    \n",
    "    return (model.predict(Xt1) - model.predict(Xt0)).mean()\n",
    "\n"
   ]
  },
  {
   "cell_type": "code",
   "execution_count": 87,
   "metadata": {},
   "outputs": [
    {
     "name": "stdout",
     "output_type": "stream",
     "text": [
      "\n",
      "### Binary Treatment Data ###\n",
      "\n",
      "5.328501680864975\n",
      "1.0502124539714488\n",
      "0.8537946431496021\n",
      "# Regression Coefficient Estimates #\n",
      "Naive ATE estimate:\t\t\t\t\t\t\t 5.328501680864978\n",
      "ATE estimate adjusting for all covariates:\t 0.8537946431495851\n",
      "ATE estimate adjusting for age:\t\t\t\t 1.0502124539714823\n",
      "\n",
      "\n",
      "### Continuous Treatment Data ###\n",
      "\n",
      "3.628378195978172\n",
      "1.0497716562238169\n",
      "0.8532920319407821\n",
      "# Regression Coefficient Estimates #\n",
      "Naive ATE estimate:\t\t\t\t\t\t\t 3.6283781959780943\n",
      "ATE estimate adjusting for all covariates:\t 0.8532920319407795\n",
      "ATE estimate adjusting for age:\t\t\t\t 1.0497716562238382\n",
      "\n"
     ]
    }
   ],
   "source": [
    "binary_t_df     = generate_data(beta1=1.05, alpha1=.4, alpha2=.3, binary_treatment=True,  n=10000000)\n",
    "continuous_t_df = generate_data(beta1=1.05, alpha1=.4, alpha2=.3, binary_treatment=False, n=10000000)\n",
    "\n",
    "\n",
    "ate_est_naive = None\n",
    "ate_est_adjust_all = None\n",
    "ate_est_adjust_age = None\n",
    "\n",
    "for df, name in zip([binary_t_df, continuous_t_df],['Binary Treatment Data', 'Continuous Treatment Data']):\n",
    "    print()\n",
    "    print('### {} ###'.format(name))\n",
    "    print()\n",
    "    \n",
    "    # Adjustment formula estimates\n",
    "    ate_est_naive      = estimate_causal_effect(df[['sodium']],        df['blood_pressure'], treatment_idx=0)\n",
    "    ate_est_adjust_age = estimate_causal_effect(df[['sodium', 'age']], df['blood_pressure'])\n",
    "    ate_est_adjust_all = estimate_causal_effect(df[['sodium', 'age', 'proteinurin']], \n",
    "                                                df['blood_pressure'], treatment_idx=0)\n",
    "    \n",
    "    print(ate_est_naive)\n",
    "    print(ate_est_adjust_age)\n",
    "    print(ate_est_adjust_all)\n",
    "    \n",
    "    # Linear regression coefficient estimates\n",
    "    ate_est_naive = estimate_causal_effect(df[['sodium']], df['blood_pressure'], treatment_idx=0,\n",
    "                                          regression_coef=True)\n",
    "    ate_est_adjust_all = estimate_causal_effect(df[['sodium', 'age', 'proteinurin']],\n",
    "                                               df['blood_pressure'], treatment_idx=0,\n",
    "                                               regression_coef=True)\n",
    "    ate_est_adjust_age = estimate_causal_effect(df[['sodium', 'age']], df['blood_pressure'],\n",
    "                                               regression_coef=True)\n",
    "    print('# Regression Coefficient Estimates #')\n",
    "    print('Naive ATE estimate:\\t\\t\\t\\t\\t\\t\\t', ate_est_naive)\n",
    "    print('ATE estimate adjusting for all covariates:\\t', ate_est_adjust_all)\n",
    "    print('ATE estimate adjusting for age:\\t\\t\\t\\t', ate_est_adjust_age)\n",
    "    print()"
   ]
  },
  {
   "cell_type": "code",
   "execution_count": null,
   "metadata": {},
   "outputs": [],
   "source": []
  }
 ],
 "metadata": {
  "kernelspec": {
   "display_name": "Python 3",
   "language": "python",
   "name": "python3"
  },
  "language_info": {
   "codemirror_mode": {
    "name": "ipython",
    "version": 3
   },
   "file_extension": ".py",
   "mimetype": "text/x-python",
   "name": "python",
   "nbconvert_exporter": "python",
   "pygments_lexer": "ipython3",
   "version": "3.7.4"
  }
 },
 "nbformat": 4,
 "nbformat_minor": 2
}
