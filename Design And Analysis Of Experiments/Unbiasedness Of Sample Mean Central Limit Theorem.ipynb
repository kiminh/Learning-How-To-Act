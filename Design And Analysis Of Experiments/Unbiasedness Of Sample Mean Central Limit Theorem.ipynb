{
 "cells": [
  {
   "cell_type": "code",
   "execution_count": 2,
   "metadata": {},
   "outputs": [],
   "source": [
    "import random\n",
    "import numpy as np\n",
    "import pandas\n",
    "import seaborn as sns"
   ]
  },
  {
   "cell_type": "code",
   "execution_count": 3,
   "metadata": {},
   "outputs": [],
   "source": [
    "import ssl\n",
    "ssl._create_default_https_context = ssl._create_unverified_context"
   ]
  },
  {
   "cell_type": "code",
   "execution_count": 4,
   "metadata": {},
   "outputs": [],
   "source": [
    "bernoulliArm = lambda x : np.random.choice( (1, 0), p=[ x, 1-x])"
   ]
  },
  {
   "cell_type": "code",
   "execution_count": 9,
   "metadata": {},
   "outputs": [
    {
     "data": {
      "text/plain": [
       "<matplotlib.axes._subplots.AxesSubplot at 0x7f89b0d07050>"
      ]
     },
     "execution_count": 9,
     "metadata": {},
     "output_type": "execute_result"
    },
    {
     "data": {
      "image/png": "[encoded data removed]",
      "text/plain": [
       "<Figure size 432x288 with 1 Axes>"
      ]
     },
     "metadata": {
      "needs_background": "light"
     },
     "output_type": "display_data"
    }
   ],
   "source": [
    "noOfSimulations = 10000\n",
    "sucessProbability = 0.3\n",
    "\n",
    "listOfSampleSizes = [100, 500, 1000]\n",
    "\n",
    "sampleSizeList = []\n",
    "listOfSampleMeans = []\n",
    "\n",
    "for sampleSize in listOfSampleSizes:\n",
    "    for simulationIdx in range(noOfSimulations):\n",
    "        tList = []\n",
    "        for i in range(sampleSize):\n",
    "            tList.append(bernoulliArm(sucessProbability))\n",
    "            \n",
    "        listOfSampleMeans.append( np.mean(tList) )\n",
    "        sampleSizeList.append   (sampleSize)\n",
    "\n",
    "sns.boxplot(x=sampleSizeList, y=listOfSampleMeans, orient=\"v\", width=0.1)    "
   ]
  },
  {
   "cell_type": "markdown",
   "metadata": {},
   "source": [
    "\n",
    "\n",
    "\n",
    "\n",
    "Q(a): 0.3 True CTR \n",
    "\n",
    "Q_hat(a_100)    :  0.25 +/- 0.20\n",
    "Q_hat(a_1000)   :  0.28 +/- 0.1\n",
    "Q_hat(a_10000)  :  0.295 +/- 0.05\n",
    "\n",
    "\n",
    "'Unbiasedness of sample mean' : E[X_sample] = E[X] 'CLT'\n",
    "\n",
    "\n",
    "E[X_Sample]  = E[X]\n",
    "\n",
    "'SE(X_sample) = SD(X) / sqrt(n)'\n",
    "\n",
    "'as sample_size -> inf then X_sample -> E[X]'\n",
    "\n",
    "Sampling distribution: distribution of sampling static : \n",
    "\n",
    "Q_hat(a_2)      : 0.30 +/- 0.30\n",
    "Q_hat(a_1000)   : 0.30 +/- 0.1\n",
    "Q_hat(a_10000) :  0.30 +/- 0.05\n",
    "\n",
    "\n",
    "Sample: Statitc\n",
    "\n",
    "Distrbution of statisc: E[X_bar] = E[X]"
   ]
  },
  {
   "cell_type": "code",
   "execution_count": 39,
   "metadata": {},
   "outputs": [
    {
     "ename": "KeyboardInterrupt",
     "evalue": "",
     "output_type": "error",
     "traceback": [
      "\u001b[0;31m---------------------------------------------------------------------------\u001b[0m",
      "\u001b[0;31mKeyboardInterrupt\u001b[0m                         Traceback (most recent call last)",
      "\u001b[0;32m<ipython-input-39-e7ca48f3b12d>\u001b[0m in \u001b[0;36m<module>\u001b[0;34m\u001b[0m\n\u001b[1;32m      9\u001b[0m         \u001b[0mtList\u001b[0m \u001b[0;34m=\u001b[0m \u001b[0;34m[\u001b[0m\u001b[0;34m]\u001b[0m\u001b[0;34m\u001b[0m\u001b[0;34m\u001b[0m\u001b[0m\n\u001b[1;32m     10\u001b[0m         \u001b[0;32mfor\u001b[0m \u001b[0mi\u001b[0m \u001b[0;32min\u001b[0m \u001b[0mrange\u001b[0m\u001b[0;34m(\u001b[0m\u001b[0msampleSize\u001b[0m\u001b[0;34m)\u001b[0m\u001b[0;34m:\u001b[0m\u001b[0;34m\u001b[0m\u001b[0;34m\u001b[0m\u001b[0m\n\u001b[0;32m---> 11\u001b[0;31m             \u001b[0mtList\u001b[0m\u001b[0;34m.\u001b[0m\u001b[0mappend\u001b[0m\u001b[0;34m(\u001b[0m\u001b[0mbernoulliArm\u001b[0m\u001b[0;34m(\u001b[0m\u001b[0msucessProbability\u001b[0m\u001b[0;34m)\u001b[0m\u001b[0;34m)\u001b[0m\u001b[0;34m\u001b[0m\u001b[0;34m\u001b[0m\u001b[0m\n\u001b[0m\u001b[1;32m     12\u001b[0m \u001b[0;34m\u001b[0m\u001b[0m\n\u001b[1;32m     13\u001b[0m         \u001b[0mlistOfSampleMeans\u001b[0m\u001b[0;34m.\u001b[0m\u001b[0mappend\u001b[0m\u001b[0;34m(\u001b[0m \u001b[0mnp\u001b[0m\u001b[0;34m.\u001b[0m\u001b[0mmean\u001b[0m\u001b[0;34m(\u001b[0m\u001b[0mtList\u001b[0m\u001b[0;34m)\u001b[0m \u001b[0;34m)\u001b[0m\u001b[0;34m\u001b[0m\u001b[0;34m\u001b[0m\u001b[0m\n",
      "\u001b[0;32m<ipython-input-4-3a5120a5df0c>\u001b[0m in \u001b[0;36m<lambda>\u001b[0;34m(x)\u001b[0m\n\u001b[0;32m----> 1\u001b[0;31m \u001b[0mbernoulliArm\u001b[0m \u001b[0;34m=\u001b[0m \u001b[0;32mlambda\u001b[0m \u001b[0mx\u001b[0m \u001b[0;34m:\u001b[0m \u001b[0mnp\u001b[0m\u001b[0;34m.\u001b[0m\u001b[0mrandom\u001b[0m\u001b[0;34m.\u001b[0m\u001b[0mchoice\u001b[0m\u001b[0;34m(\u001b[0m \u001b[0;34m(\u001b[0m\u001b[0;36m1\u001b[0m\u001b[0;34m,\u001b[0m \u001b[0;36m0\u001b[0m\u001b[0;34m)\u001b[0m\u001b[0;34m,\u001b[0m \u001b[0mp\u001b[0m\u001b[0;34m=\u001b[0m\u001b[0;34m[\u001b[0m \u001b[0mx\u001b[0m\u001b[0;34m,\u001b[0m \u001b[0;36m1\u001b[0m\u001b[0;34m-\u001b[0m\u001b[0mx\u001b[0m\u001b[0;34m]\u001b[0m\u001b[0;34m)\u001b[0m\u001b[0;34m\u001b[0m\u001b[0;34m\u001b[0m\u001b[0m\n\u001b[0m",
      "\u001b[0;31mKeyboardInterrupt\u001b[0m: "
     ]
    }
   ],
   "source": [
    "noOfSimulations = 100000\n",
    "sucessProbability = 0.3\n",
    "\n",
    "listOfSampleSizes = [2,3,5,10,100]\n",
    "\n",
    "for sampleSize in listOfSampleSizes:\n",
    "    listOfSampleMeans = []\n",
    "    for simulationIdx in range(noOfSimulations):\n",
    "        tList = []\n",
    "        for i in range(sampleSize):\n",
    "            tList.append(bernoulliArm(sucessProbability))\n",
    "            \n",
    "        listOfSampleMeans.append( np.mean(tList) )\n",
    "\n",
    "    mu =    round( np.mean(listOfSampleMeans), 5)\n",
    "    sigma = round(np.std(listOfSampleMeans), 5)\n",
    "    print('mu: ', mu, 'sigma: ', sigma, round(len([val for val in listOfSampleMeans if (val > mu - sigma ) and ( val < mu + sigma)]) / len(listOfSampleMeans),5))\n"
   ]
  },
  {
   "cell_type": "code",
   "execution_count": 38,
   "metadata": {},
   "outputs": [
    {
     "name": "stdout",
     "output_type": "stream",
     "text": [
      "0.10036 0.21201 0.80896\n",
      "0.10038 0.17319 0.72755\n",
      "0.09993 0.13421 0.91841\n",
      "0.10005 0.09473 0.38778\n",
      "0.09966 0.05956 0.49387\n",
      "0.10001 0.03 0.67004\n"
     ]
    }
   ],
   "source": [
    "noOfSimulations = 100000\n",
    "sucessProbability = 0.1\n",
    "\n",
    "listOfSampleSizes = [2,3,5,10,25,100]\n",
    "\n",
    "for sampleSize in listOfSampleSizes:\n",
    "    listOfSampleMeans = []\n",
    "    for simulationIdx in range(noOfSimulations):\n",
    "        tList = []\n",
    "        for i in range(sampleSize):\n",
    "            tList.append(bernoulliArm(sucessProbability))\n",
    "            \n",
    "        listOfSampleMeans.append( np.mean(tList) )\n",
    "\n",
    "    mu =    round( np.mean(listOfSampleMeans), 5)\n",
    "    sigma = round(np.std(listOfSampleMeans), 5)\n",
    "    print(mu, sigma, round(len([val for val in listOfSampleMeans if (val > mu - sigma ) and ( val < mu + sigma)]) / len(listOfSampleMeans),5))\n"
   ]
  },
  {
   "cell_type": "code",
   "execution_count": null,
   "metadata": {},
   "outputs": [],
   "source": []
  }
 ],
 "metadata": {
  "kernelspec": {
   "display_name": "Python 3",
   "language": "python",
   "name": "python3"
  },
  "language_info": {
   "codemirror_mode": {
    "name": "ipython",
    "version": 3
   },
   "file_extension": ".py",
   "mimetype": "text/x-python",
   "name": "python",
   "nbconvert_exporter": "python",
   "pygments_lexer": "ipython3",
   "version": "3.7.4"
  }
 },
 "nbformat": 4,
 "nbformat_minor": 2
}
