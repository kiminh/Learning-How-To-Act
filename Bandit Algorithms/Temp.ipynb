{
 "cells": [
  {
   "cell_type": "code",
   "execution_count": 1,
   "metadata": {},
   "outputs": [],
   "source": [
    "import numpy as np\n",
    "from scipy import stats\n",
    "import math\n",
    "import pandas as pd"
   ]
  },
  {
   "cell_type": "code",
   "execution_count": 2,
   "metadata": {},
   "outputs": [],
   "source": [
    "pathToNoDelimiter = '|'"
   ]
  },
  {
   "cell_type": "code",
   "execution_count": 3,
   "metadata": {},
   "outputs": [
    {
     "data": {
      "text/plain": [
       "['temp.public.reco_themes_ryl_exploit_single_entity     \\t\\t| YouLike \\t\\t\\t| RYL \\t\\t| Personalized | RootNode',\n",
       " 'temp.public.reco_themes_ryl_exploit_multiple_entities \\t\\t| YouLike \\t\\t\\t| RYL \\t\\t| Personalized | RootNode',\n",
       " 'temp.public.reco_themes_iyl_exploit_single_entity     \\t\\t| YouLike \\t\\t\\t| IYL \\t\\t| Personalized | RootNode',\n",
       " 'temp.public.reco_themes_ComboYouLike_exploit_single_entity  | YouLike \\t\\t\\t| CYL \\t\\t| Personalized | RootNode',\n",
       " 'temp.public.reco_themes_byo_explore_basis_ryl\\t\\t\\t\\t| BecauseYouLike\\t| BasisRYL  | Personalized | RootNode']"
      ]
     },
     "execution_count": 3,
     "metadata": {},
     "output_type": "execute_result"
    }
   ],
   "source": [
    "# Example PN-Tree\n",
    "PN_Types_Net = []\n",
    "for eachPN in open('/Users/viswanath.g/Desktop/pn_types_net.txt').readlines():\n",
    "    if len(eachPN) > 0 and pathToNoDelimiter in eachPN:\n",
    "        PN_Types_Net.append(eachPN.strip())\n",
    "\n",
    "PN_Types_Net    "
   ]
  },
  {
   "cell_type": "code",
   "execution_count": 4,
   "metadata": {},
   "outputs": [],
   "source": [
    "# Mapping child node to parent node & parent node to child node\n",
    "ChildParentDict = {}\n",
    "ParentChildDict = {}\n",
    "PNs = []\n",
    "\n",
    "for eachPN in PN_Types_Net:\n",
    "    path = [eNode.strip() for eNode in eachPN.split(pathToNoDelimiter) if len(eNode) > 1]\n",
    "    PNs.append(path[0])\n",
    "    for child, parent in zip(path, path[1:]):\n",
    "        ChildParentDict[child]  = parent\n",
    "        if parent in ParentChildDict:\n",
    "            ParentChildDict[parent].add(child)\n",
    "        else:\n",
    "            ParentChildDict[parent] = {child}        "
   ]
  },
  {
   "cell_type": "code",
   "execution_count": 5,
   "metadata": {},
   "outputs": [
    {
     "data": {
      "text/plain": [
       "{'temp.public.reco_themes_ryl_exploit_single_entity': 'YouLike',\n",
       " 'YouLike': 'CYL',\n",
       " 'RYL': 'Personalized',\n",
       " 'Personalized': 'RootNode',\n",
       " 'temp.public.reco_themes_ryl_exploit_multiple_entities': 'YouLike',\n",
       " 'temp.public.reco_themes_iyl_exploit_single_entity': 'YouLike',\n",
       " 'IYL': 'Personalized',\n",
       " 'temp.public.reco_themes_ComboYouLike_exploit_single_entity': 'YouLike',\n",
       " 'CYL': 'Personalized',\n",
       " 'temp.public.reco_themes_byo_explore_basis_ryl': 'BecauseYouLike',\n",
       " 'BecauseYouLike': 'BasisRYL',\n",
       " 'BasisRYL': 'Personalized'}"
      ]
     },
     "execution_count": 5,
     "metadata": {},
     "output_type": "execute_result"
    }
   ],
   "source": [
    "ChildParentDict"
   ]
  },
  {
   "cell_type": "code",
   "execution_count": 6,
   "metadata": {},
   "outputs": [
    {
     "data": {
      "text/plain": [
       "{'YouLike': {'temp.public.reco_themes_ComboYouLike_exploit_single_entity',\n",
       "  'temp.public.reco_themes_iyl_exploit_single_entity',\n",
       "  'temp.public.reco_themes_ryl_exploit_multiple_entities',\n",
       "  'temp.public.reco_themes_ryl_exploit_single_entity'},\n",
       " 'RYL': {'YouLike'},\n",
       " 'Personalized': {'BasisRYL', 'CYL', 'IYL', 'RYL'},\n",
       " 'RootNode': {'Personalized'},\n",
       " 'IYL': {'YouLike'},\n",
       " 'CYL': {'YouLike'},\n",
       " 'BecauseYouLike': {'temp.public.reco_themes_byo_explore_basis_ryl'},\n",
       " 'BasisRYL': {'BecauseYouLike'}}"
      ]
     },
     "execution_count": 6,
     "metadata": {},
     "output_type": "execute_result"
    }
   ],
   "source": [
    "ParentChildDict"
   ]
  },
  {
   "cell_type": "code",
   "execution_count": 12,
   "metadata": {},
   "outputs": [
    {
     "data": {
      "text/plain": [
       "0.01792191526484265"
      ]
     },
     "execution_count": 12,
     "metadata": {},
     "output_type": "execute_result"
    }
   ],
   "source": [
    "import random\n",
    "\n",
    "x = random.uniform(0.01,0.02)\n",
    "x"
   ]
  },
  {
   "cell_type": "code",
   "execution_count": null,
   "metadata": {},
   "outputs": [],
   "source": []
  }
 ],
 "metadata": {
  "kernelspec": {
   "display_name": "Python 3",
   "language": "python",
   "name": "python3"
  },
  "language_info": {
   "codemirror_mode": {
    "name": "ipython",
    "version": 3
   },
   "file_extension": ".py",
   "mimetype": "text/x-python",
   "name": "python",
   "nbconvert_exporter": "python",
   "pygments_lexer": "ipython3",
   "version": "3.7.4"
  }
 },
 "nbformat": 4,
 "nbformat_minor": 2
}
