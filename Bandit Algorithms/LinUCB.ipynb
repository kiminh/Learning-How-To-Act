{
 "cells": [
  {
   "cell_type": "code",
   "execution_count": 56,
   "metadata": {},
   "outputs": [],
   "source": [
    "import random\n",
    "import numpy as np\n",
    "from collections import Counter"
   ]
  },
  {
   "cell_type": "code",
   "execution_count": 59,
   "metadata": {},
   "outputs": [
    {
     "data": {
      "text/plain": [
       "(1020, 21.0)"
      ]
     },
     "execution_count": 59,
     "metadata": {},
     "output_type": "execute_result"
    }
   ],
   "source": [
    "class LinUCB():\n",
    "    '''\n",
    "        This class implements LinUCB Disjoint algorithm\n",
    "    '''\n",
    "    \n",
    "    def __init__( self,  kArms, alpha, ctxtVecLen):\n",
    "        \n",
    "        '''\n",
    "            alpha : Controls exploration; \n",
    "                    Higher the alpha, wider the confidence interval and higher the chance of trying any given arm;\n",
    "           \n",
    "            kArms: Number of arms\n",
    "            \n",
    "            ctxtVecLen: determines the shape of Design Matrix & Response Vector\n",
    "            \n",
    "        '''\n",
    "        \n",
    "        self.kArms      = kArms\n",
    "        self.alpha      = alpha\n",
    "        self.ctxtVecLen = ctxtVecLen\n",
    "        \n",
    "        # A: (ctxtVecLen x ctxtVecLen) matrix = D_a.T * D_a + I_d  ( Where a is indexing on arms array)\n",
    "        # The inverse of A is used in ridge regression \n",
    "        self.A_a = [np.identity(ctxtVecLen)  for eArm in range(kArms) ]        \n",
    "        \n",
    "        # b: (ctxtVecLen x 1) corresponding response vector. \n",
    "        # Equals to D_a.T * c_a in ridge regression formulation\n",
    "        self.b_a = [np.zeros([ctxtVecLen,1]) for eArm in range(kArms) ]\n",
    "        \n",
    "    def __repr__(self):\n",
    "        return f'LinUCB: kArms:{kArms}, alpha: {alpha}'.format(self.alpha, self.kArms, self.ctxtVecLen) \n",
    "    \n",
    "    def select_arm(self, ctxtVec):\n",
    "        ''' Returns the index of the next arm to pull '''\n",
    "        \n",
    "        # Reshape covariates input into (d x 1) shape vector\n",
    "        ctxtVec = ctxtVec.reshape([-1,1])\n",
    "\n",
    "        ucb = []\n",
    "        for idx in range(kArms):\n",
    "\n",
    "            # Find A inverse for ridge regression\n",
    "            A_inv = np.linalg.inv(self.A_a[idx])\n",
    "\n",
    "            # Perform ridge regression to obtain estimate of covariate coefficients theta\n",
    "            # theta is (ctxtVecLen x 1) dimension vector\n",
    "            theta = np.dot(A_inv, self.b_a[idx])\n",
    "\n",
    "            # Find ucb based on p formulation (mean + std_dev) \n",
    "            # p is (1 x 1) dimension vector\n",
    "\n",
    "            ucb.append( \n",
    "                np.dot(theta.T, ctxtVec) + self.alpha * np.sqrt(np.dot(ctxtVec.T, np.dot(A_inv,ctxtVec))) \n",
    "            )        \n",
    "        \n",
    "        max_val = max( ucb  )            \n",
    "        return ucb.index(max_val) +1\n",
    "    \n",
    "    def update(self, ctxtVec, chosen_arm, reward):\n",
    "        '''        \n",
    "            After we pull an arm, we get a reward signal back from our system. This function update our algorithm's beliefs\n",
    "            about the quality of the arm we just chose by providing this reward information.\n",
    "        \n",
    "            chosen_arm : The numeric index of the most recently chosen arm\n",
    "            reward     : The reward received from chossing that arm\n",
    "        '''\n",
    "        # Reshape covariates input into (d x 1) shape vector\n",
    "        ctxtVec = ctxtVec.reshape([-1,1])\n",
    "        \n",
    "        # Update A which is (d * d) matrix.\n",
    "        self.A_a[chosen_arm] += np.dot(ctxtVec, ctxtVec.T)\n",
    "        \n",
    "        # Update b which is (d x 1) vector\n",
    "        # reward is scalar\n",
    "        self.b_a[chosen_arm] += reward * ctxtVec\n",
    "\n",
    "\n",
    "kArms      = 10\n",
    "alpha      = 1.5\n",
    "ctxtVecLen = 100\n",
    "\n",
    "LinUCBPolicy = LinUCB(kArms, alpha, ctxtVecLen)\n",
    "\n",
    "\n",
    "with open('./dataset.txt') as fp:\n",
    "    for eachRecord in fp:\n",
    "        data_arm = int(eachRecord.split(' ')[0])\n",
    "        data_reward = float(eachRecord.split()[1])\n",
    "        covariate_string_list = eachRecord.split()[2:]\n",
    "        data_x_array = np.array([float(eCov) for eCov in eachRecord.split()[2:]])\n",
    "        break\n",
    "    \n",
    "\n",
    "\n",
    "tCtr = Counter()\n",
    "noOfMatches = 0\n",
    "cumulative_reward = 0 \n",
    "with open('./dataset.txt') as fp:\n",
    "    for idx, eachRecord in enumerate(fp):\n",
    "        if idx > 10000:\n",
    "            break\n",
    "        data_arm = int(eachRecord.split(' ')[0])\n",
    "        data_reward = float(eachRecord.split()[1])\n",
    "        covariate_string_list = eachRecord.split()[2:]        \n",
    "        data_x_array = np.array([float(eCov) for eCov in eachRecord.split()[2:]])\n",
    "        selected_arm = LinUCBPolicy.select_arm( data_x_array )\n",
    "        if selected_arm == data_arm:\n",
    "            noOfMatches += 1\n",
    "            cumulative_reward = cumulative_reward + data_reward\n",
    "            LinUCBPolicy.update(data_x_array, selected_arm, data_reward) \n",
    "\n",
    "noOfMatches, cumulative_reward\n",
    "\n"
   ]
  },
  {
   "cell_type": "code",
   "execution_count": 60,
   "metadata": {},
   "outputs": [
    {
     "data": {
      "text/plain": [
       "0.020588235294117647"
      ]
     },
     "execution_count": 60,
     "metadata": {},
     "output_type": "execute_result"
    }
   ],
   "source": [
    "21.0/1020"
   ]
  },
  {
   "cell_type": "code",
   "execution_count": null,
   "metadata": {},
   "outputs": [],
   "source": []
  }
 ],
 "metadata": {
  "kernelspec": {
   "display_name": "Python 3",
   "language": "python",
   "name": "python3"
  },
  "language_info": {
   "codemirror_mode": {
    "name": "ipython",
    "version": 3
   },
   "file_extension": ".py",
   "mimetype": "text/x-python",
   "name": "python",
   "nbconvert_exporter": "python",
   "pygments_lexer": "ipython3",
   "version": "3.7.4"
  }
 },
 "nbformat": 4,
 "nbformat_minor": 2
}
