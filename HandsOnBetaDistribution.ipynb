{
 "cells": [
  {
   "cell_type": "code",
   "execution_count": 7,
   "metadata": {},
   "outputs": [],
   "source": [
    "from scipy.stats import beta\n",
    "import math\n",
    "import numpy as np"
   ]
  },
  {
   "cell_type": "code",
   "execution_count": 82,
   "metadata": {},
   "outputs": [
    {
     "data": {
      "text/plain": [
       "{'noOfClicks': 1275, 'noOfImpressions': 172200}"
      ]
     },
     "execution_count": 82,
     "metadata": {},
     "output_type": "execute_result"
    }
   ],
   "source": [
    "byl1 = {\n",
    "    'noOfClicks': (100+115+340+720), \n",
    "    'noOfImpressions': (10000 + 10100 + 21100 + 131000),\n",
    "}\n",
    "\n",
    "byl2 = {\n",
    "    'noOfClicks':  (150+115+340+720),\n",
    "    'noOfImpressions': ( 1000 + 10100 + 21100 + 131000)\n",
    "}\n",
    "\n",
    "yl1 = {\n",
    "    'noOfClicks':  (200+225+340+720) ,\n",
    "    'noOfImpressions': (10000 + 11000 + 21100 + 131100),    \n",
    "}\n",
    "\n",
    "yl2 = {\n",
    "    'noOfClicks': (250+225+340+720) ,\n",
    "    'noOfImpressions':(10000 + 11000 + 21100 + 131100),        \n",
    "}\n",
    "supply1 = {\n",
    "    'noOfClicks': (20+420+720)  ,\n",
    "    'noOfImpressions': (10000 + 110000 + 131100),    \n",
    "}\n",
    "supply2 = {\n",
    "    'noOfClicks': (400+420+720)  ,\n",
    "    'noOfImpressions': (100000 + 110000 + 131100),    \n",
    "}\n",
    "byl1"
   ]
  },
  {
   "cell_type": "code",
   "execution_count": 97,
   "metadata": {},
   "outputs": [
    {
     "data": {
      "text/plain": [
       "(0.013130748900121236,\n",
       " 0.010548324814941994,\n",
       " 0.01556312166079136,\n",
       " 0.013142226317136341,\n",
       " 0.0028566656420860948,\n",
       " 0.004120814676283477)"
      ]
     },
     "execution_count": 97,
     "metadata": {},
     "output_type": "execute_result"
    }
   ],
   "source": [
    "t = 1\n",
    "byl1 = {\n",
    "    'noOfClicks': (100*math.exp(0*t)) + (115*math.exp(-1*t)) + (340*math.exp(-1*t)) + (720*math.exp(-3*t)) , \n",
    "    'noOfImpressions': (10000*math.exp(0*t)) + (10100*math.exp(-1*t)) + (21100*math.exp(-2*t)) + (131000*math.exp(-3*t)) ,\n",
    "}\n",
    "\n",
    "byl2 = {\n",
    "    'noOfClicks':  (15*math.exp(0*t)) + (115*math.exp(-1*t)) + (340*math.exp(-2*t)) + (720*math.exp(-3*t)) ,\n",
    "    'noOfImpressions': (100*math.exp(0*t)) + (10100*math.exp(-1*t)) + (21100*math.exp(-2*t)) + (131000*math.exp(-3*t))\n",
    "}\n",
    "\n",
    "yl1 = {\n",
    "    'noOfClicks':      (200*math.exp(0*t)) + (225*math.exp(-1*t)) + (340*math.exp(-2*t)) + (720*math.exp(-3*t)) , \n",
    "    'noOfImpressions': (10000*math.exp(0*t)) + (11000*math.exp(-1*t)) + (21100*math.exp(-2*t)) + (131100*math.exp(-3*t)),    \n",
    "}\n",
    "\n",
    "yl2 = {\n",
    "    'noOfClicks':     (25*math.exp(0*t)) + (225*math.exp(-1)) + (340*math.exp(-2)) + (720*math.exp(-3)) ,\n",
    "    'noOfImpressions':(1000*math.exp(0*t)) + (11000*math.exp(-1)) + (21100*math.exp(-2)) + (131100*math.exp(-3)),        \n",
    "}\n",
    "supply1 = {\n",
    "    'noOfClicks':    (200*math.exp(0*t))+(420*math.exp(-1*t))+(720*math.exp(-2*t))  ,\n",
    "    'noOfImpressions': (100000*math.exp(0*t)) + (110000*math.exp(-1*t)) + (131100*math.exp(-2*t)),    \n",
    "}\n",
    "supply2 = {\n",
    "    'noOfClicks': (400*math.exp(0*t))+(420*math.exp(-1*t))+(720*math.exp(-2*t))  ,\n",
    "    'noOfImpressions': (100000*math.exp(0*t)) + (110000*math.exp(-1*t)) + (131100*math.exp(-2*t)),    \n",
    "}\n",
    "\n",
    "byl1['noOfClicks'] / byl1['noOfImpressions'],\\\n",
    "byl2['noOfClicks'] / byl2['noOfImpressions'],\\\n",
    "yl1['noOfClicks']  / yl1['noOfImpressions'],\\\n",
    "yl2['noOfClicks']  / yl2['noOfImpressions'],\\\n",
    "supply1['noOfClicks']  / supply1['noOfImpressions'],\\\n",
    "supply2['noOfClicks']  / supply2['noOfImpressions'],\\"
   ]
  },
  {
   "cell_type": "code",
   "execution_count": 121,
   "metadata": {},
   "outputs": [
    {
     "data": {
      "text/plain": [
       "(0.16617231798272686, 0.25108694588828345)"
      ]
     },
     "execution_count": 121,
     "metadata": {},
     "output_type": "execute_result"
    }
   ],
   "source": [
    "tvals = beta.rvs(0.20,1.0, size=100000)\n",
    "np.mean(tvals), np.std(tvals)"
   ]
  },
  {
   "cell_type": "code",
   "execution_count": 119,
   "metadata": {},
   "outputs": [
    {
     "data": {
      "text/plain": [
       "0.16666666666666669"
      ]
     },
     "execution_count": 119,
     "metadata": {},
     "output_type": "execute_result"
    }
   ],
   "source": [
    "0.2/1.2"
   ]
  },
  {
   "cell_type": "code",
   "execution_count": 130,
   "metadata": {},
   "outputs": [
    {
     "data": {
      "text/plain": [
       "(array(0.66666667), array(0.00716846))"
      ]
     },
     "execution_count": 130,
     "metadata": {},
     "output_type": "execute_result"
    }
   ],
   "source": [
    "t=10\n",
    "a, b = t*2, t*1\n",
    "mean, var, skew, kurt = beta.stats(a, b, moments='mvsk')\n",
    "mean, var"
   ]
  },
  {
   "cell_type": "code",
   "execution_count": 123,
   "metadata": {},
   "outputs": [
    {
     "data": {
      "text/plain": [
       "0.7865168539325842"
      ]
     },
     "execution_count": 123,
     "metadata": {},
     "output_type": "execute_result"
    }
   ],
   "source": [
    "2.31/(2.31+0.627)"
   ]
  },
  {
   "cell_type": "markdown",
   "metadata": {},
   "source": [
    "For every terminal node in the tree:\n"
   ]
  },
  {
   "cell_type": "code",
   "execution_count": 40,
   "metadata": {},
   "outputs": [
    {
     "data": {
      "text/plain": [
       "{'noOfClicks': [100, 115, 340, 720],\n",
       " 'noOfImpressions': [10000, 10100, 21100, 131000]}"
      ]
     },
     "execution_count": 40,
     "metadata": {},
     "output_type": "execute_result"
    }
   ],
   "source": [
    "byl1 = {\n",
    "    'noOfClicks': [100, 115, 340, 720], \n",
    "    'noOfImpressions': [10000 ,  10100 ,  21100 ,  131000],\n",
    "}\n",
    "\n",
    "byl2 = {\n",
    "    'noOfClicks':  [150, 115, 340, 720],\n",
    "    'noOfImpressions': [ 10000 ,  10100 ,  21100 ,  131000]\n",
    "}\n",
    "\n",
    "yl1 = {\n",
    "    'noOfClicks':  [200, 225, 340, 720] ,\n",
    "    'noOfImpressions': [10000 ,  11000 ,  21100 ,  131100],    \n",
    "}\n",
    "\n",
    "yl2 = {\n",
    "    'noOfClicks': [250, 225, 340, 720] ,\n",
    "    'noOfImpressions':[10000 ,  11000 ,  21100 ,  131100],        \n",
    "}\n",
    "supply1 = {\n",
    "    'noOfClicks': [20, 420, 720]  ,\n",
    "    'noOfImpressions': [10000 ,  110000 ,  131100],    \n",
    "}\n",
    "supply2 = {\n",
    "    'noOfClicks': [400, 420, 720]  ,\n",
    "    'noOfImpressions': [100000 ,  110000 ,  131100],    \n",
    "}\n",
    "byl1"
   ]
  },
  {
   "cell_type": "code",
   "execution_count": 42,
   "metadata": {},
   "outputs": [
    {
     "data": {
      "text/plain": [
       "0.010688672435875143"
      ]
     },
     "execution_count": 42,
     "metadata": {},
     "output_type": "execute_result"
    }
   ],
   "source": [
    "betas = []\n",
    "for clicks, impressions in zip(byl1['noOfClicks'], byl1['noOfImpressions']):\n",
    "    alpha_ = clicks\n",
    "    beta_  = impressions - clicks\n",
    "    betas.append( beta.rvs(alpha_, beta_, size=1)[0] )\n",
    "sum(betas)/len(betas)"
   ]
  },
  {
   "cell_type": "code",
   "execution_count": 43,
   "metadata": {},
   "outputs": [
    {
     "data": {
      "text/plain": [
       "0.012216741348791148"
      ]
     },
     "execution_count": 43,
     "metadata": {},
     "output_type": "execute_result"
    }
   ],
   "source": [
    "betas = []\n",
    "for clicks, impressions in zip(byl2['noOfClicks'], byl2['noOfImpressions']):\n",
    "    alpha_ = clicks\n",
    "    beta_  = impressions - clicks\n",
    "    betas.append( beta.rvs(alpha_, beta_, size=1)[0] )\n",
    "sum(betas)/len(betas)"
   ]
  },
  {
   "cell_type": "code",
   "execution_count": 45,
   "metadata": {},
   "outputs": [
    {
     "data": {
      "text/plain": [
       "0.01439867008584388"
      ]
     },
     "execution_count": 45,
     "metadata": {},
     "output_type": "execute_result"
    }
   ],
   "source": [
    "betas = []\n",
    "for clicks, impressions in zip(yl1['noOfClicks'], yl1['noOfImpressions']):\n",
    "    alpha_ = clicks\n",
    "    beta_  = impressions - clicks\n",
    "    betas.append( beta.rvs(alpha_, beta_, size=1)[0] )\n",
    "sum(betas)/len(betas)"
   ]
  },
  {
   "cell_type": "code",
   "execution_count": null,
   "metadata": {},
   "outputs": [],
   "source": [
    "betas = []\n",
    "for clicks, impressions in zip(yl1['noOfClicks'], yl1['noOfImpressions']):\n",
    "    alpha_ = clicks\n",
    "    beta_  = impressions - clicks\n",
    "    betas.append( beta.rvs(alpha_, beta_, size=1)[0] )\n",
    "sum(betas)/len(betas)"
   ]
  }
 ],
 "metadata": {
  "kernelspec": {
   "display_name": "Python 3",
   "language": "python",
   "name": "python3"
  },
  "language_info": {
   "codemirror_mode": {
    "name": "ipython",
    "version": 3
   },
   "file_extension": ".py",
   "mimetype": "text/x-python",
   "name": "python",
   "nbconvert_exporter": "python",
   "pygments_lexer": "ipython3",
   "version": "3.7.4"
  }
 },
 "nbformat": 4,
 "nbformat_minor": 2
}
