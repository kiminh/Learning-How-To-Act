{
 "cells": [
  {
   "cell_type": "code",
   "execution_count": 1,
   "metadata": {},
   "outputs": [],
   "source": [
    "import random\n",
    "import numpy\n",
    "import pandas\n"
   ]
  },
  {
   "cell_type": "markdown",
   "metadata": {},
   "source": [
    "#### Epsilon-Greedy Algorithm :-\n",
    "- With probability 1 - epsilon, the epsilon-Greedy algorithm exploits the best known option\n",
    "- With probability epsilon /2, the epsilon-Greedy algorithm explores the best known option\n",
    "- With probability epsilon /2, the epsilon-Greedy algorithm explores the wrost known option"
   ]
  },
  {
   "cell_type": "markdown",
   "metadata": {},
   "source": [
    "#### Multiarm Bandit algorithms?\n",
    "\n",
    "Problem :- How an idealized gambler would try to make as much money as possible in hypothetical casino?\n",
    "\n",
    "In this hypothetical casino, there's only one type of game: a slot machine, which is also sometimes called a one-argmed bandit because of its propensity to take your money. While this casino only features slot machines, it could still be an interesting place to visit because there are many different slot machines, each of which has a different payout schedule.\n",
    "\n",
    "For whatever reason, the original mathematicians decided to treat different slot machines in their thought experiment as if they were were one giant slot machine that had many arms. This led them to refer to the options in their problem as arms. It also led them to call this thought experiment the Multiarm Bandit Problem.\n",
    "\n",
    "Reward: A measure of success; it might tell us whether a customer clicked on an ad or signed up as a user.\n"
   ]
  },
  {
   "cell_type": "markdown",
   "metadata": {},
   "source": [
    "#### What's a Bandit Problem?\n",
    "- We are facing a complicated slot machine, called a bandit, that has a set of N arms that we can pull on.\n",
    "- When pulled, any given arm will output a reward. But there rewards are not reliable, which is why we were gambling: Arm I might give us 1 unit of reward only 1% of the time, whiLE Arm 2 might give us 1 unit of reward only 3% of the time. Any specific pull of any specific arm is risky.\n",
    "- Not only is each pull of an arm risky, we also do not start off knowing what the reward rates are for any of the arms. We have to figure this out experimentally by actually pulling on the unknown arms.\n",
    "\n",
    "Any algorithm that offers you a proposed solution to the MBP must give you a rule for selecting arms in some sequence. And this rule has to balance out your competing desires to 1) Learn about new arms and 2) earn as much reward as possible by pulling on arms your already know are good choices\n"
   ]
  },
  {
   "cell_type": "code",
   "execution_count": 2,
   "metadata": {},
   "outputs": [],
   "source": [
    "import random\n",
    "import numpy\n",
    "\n",
    "class EpsilonGreedy():\n",
    "    \n",
    "    '''\n",
    "        This class implements epsilon-Greeey Multiarm Bandit algorithm\n",
    "    '''\n",
    "    def __init__( self, epsilon, counts=[], values=[] ):\n",
    "        '''\n",
    "            epsilon : This will be a floating pointt number that tell us the frequency with which \n",
    "            we should explore one of the available arms.\n",
    "           \n",
    "            counts  : A vector of integers of length N that tells us how many time we have played \n",
    "            each of the N arms available to us in the current bandit problem.\n",
    "            \n",
    "            values  : A vector of floating point numbers that defines the average amount of reward we have gotten \n",
    "            when playing each of the N arms available to us.\n",
    "        '''\n",
    "        self.epsilon = epsilon\n",
    "        self.counts = counts\n",
    "        self. values = values\n",
    "        \n",
    "    def __repr__(self):\n",
    "        return 'EpsilonGreedy({:.2f},{!r}, {!r})'.format(self.epsilon, self.counts, self.values)\n",
    "        \n",
    "    def initialize(self, n_arms):\n",
    "        # Intializing / reset rewards & counts to zeros for each arm(or option)\n",
    "        self.counts = [ 0 for col in range(n_arms) ]\n",
    "        self.values = [ 0.0 for col in range(n_arms) ]\n",
    "    \n",
    "    def select_arm(self):\n",
    "        ''' Returns the index of the next arm to pull '''\n",
    "        \n",
    "        if random.random() > self.epsilon: # Exploitation\n",
    "            m = max( self.values  )            \n",
    "            if ( m > 0.0 ) :\n",
    "                return self.values.index(m)\n",
    "            else:\n",
    "                return random.randrange( len( self.values) )\n",
    "            \n",
    "        else: # Exploration\n",
    "            return random.randrange( len( self.values) )\n",
    "        \n",
    "    \n",
    "    def update(self, chosen_arm, reward):\n",
    "        '''        \n",
    "        After we pull an arm, we get a reward signal back from our system. This function update our algorithm's beliefs\n",
    "        about the quality of the arm we just chose by providing this reward information.\n",
    "        \n",
    "        chosen_arm : The numeric index of the most recently chosen arm\n",
    "        reward     : The reward received from chossing that arm\n",
    "        '''\n",
    "        self.counts[ chosen_arm ] += 1\n",
    "        n = self.counts[ chosen_arm ]\n",
    "        value = self.values[chosen_arm]\n",
    "        new_value = ( ( n-1 ) * value + reward ) / float(n) \n",
    "        self.values[chosen_arm] = new_value\n",
    "    \n"
   ]
  },
  {
   "cell_type": "code",
   "execution_count": 3,
   "metadata": {},
   "outputs": [
    {
     "name": "stdout",
     "output_type": "stream",
     "text": [
      "Epsilon Greedy object for A/B testing framework:- \t EpsilonGreedy(1.00,[0, 0], [0.0, 0.0])\n",
      "Epsilon Greedy object for profit maximization:-   \t EpsilonGreedy(0.00,[0, 0], [0.0, 0.0])\n"
     ]
    }
   ],
   "source": [
    "# Explore - Exploit tradeoff :- completely explore ( A/B Testing )\n",
    "\n",
    "algo = EpsilonGreedy(1.0)\n",
    "algo.initialize(2)\n",
    "print ( \"Epsilon Greedy object for A/B testing framework:- \\t\", algo)\n",
    "\n",
    "algo.epsilon = 0\n",
    "print ( \"Epsilon Greedy object for profit maximization:-   \\t\", algo)\n",
    "\n",
    "\n"
   ]
  },
  {
   "cell_type": "code",
   "execution_count": 4,
   "metadata": {},
   "outputs": [],
   "source": [
    "?EpsilonGreedy.update"
   ]
  },
  {
   "cell_type": "markdown",
   "metadata": {},
   "source": [
    "#### When one of the arm is significantly better than the other arm ( like 50% more effective )"
   ]
  },
  {
   "cell_type": "code",
   "execution_count": 11,
   "metadata": {},
   "outputs": [
    {
     "name": "stdout",
     "output_type": "stream",
     "text": [
      "total reward:- 1429.00  =>  EpsilonGreedy(0.10,[24898, 75102], [0.01180817736364367, 0.01511277995259777])\n",
      "total reward:- 1407.00  =>  EpsilonGreedy(0.20,[10014, 89986], [0.011284202117036133, 0.014380014668948494])\n",
      "total reward:- 1473.00  =>  EpsilonGreedy(0.30,[15083, 84917], [0.011867665583769806, 0.015238409270228608])\n",
      "total reward:- 1374.00  =>  EpsilonGreedy(0.40,[26240, 73760], [0.009717987804878012, 0.015170824295010852])\n",
      "total reward:- 1406.00  =>  EpsilonGreedy(0.50,[24976, 75024], [0.009849455477258118, 0.01546171891661332])\n",
      "total reward:- 1370.00  =>  EpsilonGreedy(0.60,[30189, 69811], [0.010268640895690524, 0.015183853547435228])\n",
      "total reward:- 1366.00  =>  EpsilonGreedy(0.70,[35075, 64925], [0.010491803278688547, 0.015371582595302274])\n",
      "total reward:- 1269.00  =>  EpsilonGreedy(0.80,[40318, 59682], [0.010193958033632676, 0.01437619382728457])\n",
      "total reward:- 1294.00  =>  EpsilonGreedy(0.90,[45093, 54907], [0.009957199565342719, 0.015389658877738717])\n",
      "total reward:- 1231.00  =>  EpsilonGreedy(1.00,[50207, 49793], [0.009440914613500146, 0.015202940172313387])\n"
     ]
    },
    {
     "data": {
      "image/png": "[encoded data removed]",
      "text/plain": [
       "<Figure size 432x288 with 1 Axes>"
      ]
     },
     "metadata": {
      "needs_background": "light"
     },
     "output_type": "display_data"
    }
   ],
   "source": [
    "armsRewardForGivenTrial = lambda x : numpy.random.choice( (\"s\", \"f\"), p=[ x, 1-x])\n",
    "\n",
    "successProbabilities = [ 0.01, 0.015 ] # Options success rates in Hindsight\n",
    "\n",
    "totalRewardForEachEpsilon = []\n",
    "\n",
    "for eEpsilon in numpy.arange(0.1, 1.1, 0.1):\n",
    "    p = EpsilonGreedy( eEpsilon,[0,0],[0,0])\n",
    "    for ee in range(100000):\n",
    "        chosen_arm = p.select_arm() \n",
    "        p.update ( chosen_arm , 1 if armsRewardForGivenTrial(successProbabilities[chosen_arm]) == 's' else 0 )\n",
    "    \n",
    "    totalReward = sum( [ i*j for i,j in zip( p.counts, p.values)] )\n",
    "    \n",
    "    totalRewardForEachEpsilon.append( (p.epsilon, totalReward) )\n",
    "    print ( \"total reward:- {0:.2f}\".format(  totalReward ) ,  \" => \",  p)\n",
    "\n",
    "import pandas\n",
    "rewardsDF = pandas.DataFrame( totalRewardForEachEpsilon, columns=[\"epsilon\", \"total_reward\"])\n",
    "\n",
    "import matplotlib.pyplot as plt\n",
    "plt.scatter(rewardsDF['epsilon'], rewardsDF['total_reward'])\n",
    "plt.title(\"epsilon - greedy algorithm\")\n",
    "plt.xlabel(\"epsilon\")\n",
    "plt.ylabel(\"total reward\")\n",
    "plt.show() # Depending on whether you use IPython or interactive mode, etc."
   ]
  },
  {
   "cell_type": "markdown",
   "metadata": {},
   "source": [
    "Comments:\n",
    "- Total reward is decreasing with increasing in epsilon, which means increasing in exploration has adverse affect on total reward "
   ]
  },
  {
   "cell_type": "markdown",
   "metadata": {},
   "source": [
    "#### When one of the arm is significantly better than the other arm ( like 100% more effective )"
   ]
  },
  {
   "cell_type": "code",
   "execution_count": 6,
   "metadata": {},
   "outputs": [
    {
     "name": "stdout",
     "output_type": "stream",
     "text": [
      "total reward:- 1916.00  =>  EpsilonGreedy(0.10,[6037, 93963], [0.007454033460327975, 0.019912093057906])\n",
      "total reward:- 1923.00  =>  EpsilonGreedy(0.20,[10155, 89845], [0.009453471196455008, 0.02033502142578908])\n",
      "total reward:- 1850.00  =>  EpsilonGreedy(0.30,[15091, 84909], [0.009807169836326216, 0.0200449893415304])\n",
      "total reward:- 1765.00  =>  EpsilonGreedy(0.40,[20243, 79757], [0.010324556636862069, 0.019509259375352375])\n",
      "total reward:- 1721.00  =>  EpsilonGreedy(0.50,[25059, 74941], [0.009058621652899118, 0.019935682737086704])\n",
      "total reward:- 1658.00  =>  EpsilonGreedy(0.60,[30335, 69665], [0.009592879512114757, 0.019622479006674888])\n",
      "total reward:- 1634.00  =>  EpsilonGreedy(0.70,[35066, 64934], [0.010465978440654769, 0.019512119998767882])\n",
      "total reward:- 1580.00  =>  EpsilonGreedy(0.80,[40202, 59798], [0.00895477836923531, 0.020402020134452588])\n",
      "total reward:- 1519.00  =>  EpsilonGreedy(0.90,[45084, 54916], [0.009981368112856218, 0.01946609367033285])\n",
      "total reward:- 1568.00  =>  EpsilonGreedy(1.00,[50575, 49425], [0.01051903114186851, 0.02096105209914002])\n"
     ]
    },
    {
     "data": {
      "image/png": "[encoded data removed]",
      "text/plain": [
       "<Figure size 432x288 with 1 Axes>"
      ]
     },
     "metadata": {
      "needs_background": "light"
     },
     "output_type": "display_data"
    }
   ],
   "source": [
    "armsRewardForGivenTrial = lambda x : numpy.random.choice( (\"s\", \"f\"), p=[ x, 1-x])\n",
    "\n",
    "\n",
    "successProbabilities = [ 0.01, 0.02 ] # Options success rates in Hindsight\n",
    "\n",
    "totalRewardForEachEpsilon = []\n",
    "\n",
    "for eEpsilon in numpy.arange(0.1, 1.1, 0.1):\n",
    "    p = EpsilonGreedy( eEpsilon,[0,0],[0,0])\n",
    "    for ee in range(100000):\n",
    "        chosen_arm = p.select_arm() \n",
    "        p.update ( chosen_arm , 1 if armsRewardForGivenTrial(successProbabilities[chosen_arm]) == 's' else 0 )\n",
    "    \n",
    "    totalReward = sum( [ i*j for i,j in zip( p.counts, p.values)] )\n",
    "    \n",
    "    totalRewardForEachEpsilon.append( (p.epsilon, totalReward) )\n",
    "    print ( \"total reward:- {0:.2f}\".format(  totalReward ) ,  \" => \",  p)\n",
    "\n",
    "import pandas\n",
    "rewardsDF = pandas.DataFrame( totalRewardForEachEpsilon, columns=[\"epsilon\", \"total_reward\"])\n",
    "\n",
    "import matplotlib.pyplot as plt\n",
    "plt.scatter(rewardsDF['epsilon'], rewardsDF['total_reward'])\n",
    "plt.title(\"epsilon - greedy algorithm\")\n",
    "plt.xlabel(\"epsilon\")\n",
    "plt.ylabel(\"total reward\")\n",
    "plt.show() # Depending on whether you use IPython or interactive mode, etc."
   ]
  },
  {
   "cell_type": "markdown",
   "metadata": {},
   "source": [
    "#### When one of the arm is not so significantly better than the other arm ( like ~10% more effective )"
   ]
  },
  {
   "cell_type": "code",
   "execution_count": 7,
   "metadata": {},
   "outputs": [
    {
     "name": "stdout",
     "output_type": "stream",
     "text": [
      "total reward:- 1106.00  =>  EpsilonGreedy(0.10,[5183, 94817], [0.009261045726413284, 0.01115833658521152])\n",
      "total reward:- 1044.00  =>  EpsilonGreedy(0.20,[85668, 14332], [0.010517346033524716, 0.009977672341613134])\n",
      "total reward:- 1060.00  =>  EpsilonGreedy(0.30,[15393, 84607], [0.010394335087377343, 0.010637417707754794])\n",
      "total reward:- 1097.00  =>  EpsilonGreedy(0.40,[20454, 79546], [0.010315830644372713, 0.011138209337992982])\n",
      "total reward:- 1172.00  =>  EpsilonGreedy(0.50,[24921, 75079], [0.0103928413787569, 0.012160524247792348])\n",
      "total reward:- 1015.00  =>  EpsilonGreedy(0.60,[69397, 30603], [0.010259809501851671, 0.009900990099009868])\n",
      "total reward:- 1111.00  =>  EpsilonGreedy(0.70,[35003, 64997], [0.009942004971002564, 0.011739003338615673])\n",
      "total reward:- 1077.00  =>  EpsilonGreedy(0.80,[40429, 59571], [0.010042296371416496, 0.011263870003860947])\n",
      "total reward:- 1064.00  =>  EpsilonGreedy(0.90,[45101, 54899], [0.00980022615906521, 0.01132989671943021])\n",
      "total reward:- 1027.00  =>  EpsilonGreedy(1.00,[49921, 50079], [0.009955730053484548, 0.010583278420096306])\n"
     ]
    },
    {
     "data": {
      "image/png": "[encoded data removed]",
      "text/plain": [
       "<Figure size 432x288 with 1 Axes>"
      ]
     },
     "metadata": {
      "needs_background": "light"
     },
     "output_type": "display_data"
    }
   ],
   "source": [
    "armsRewardForGivenTrial = lambda x : numpy.random.choice( (\"s\", \"f\"), p=[ x, 1-x]) # Bernoulli Arm\n",
    "\n",
    "\n",
    "successProbabilities = [ 0.01, 0.011 ] # Options success rates in Hindsight\n",
    "\n",
    "totalRewardForEachEpsilon = []\n",
    "\n",
    "for eEpsilon in numpy.arange(0.1, 1.1, 0.1):\n",
    "    egAlgo = EpsilonGreedy( eEpsilon,[0,0],[0,0])\n",
    "    for ee in range(100000):\n",
    "        chosen_arm = egAlgo.select_arm() \n",
    "        egAlgo.update ( chosen_arm , 1 if armsRewardForGivenTrial(successProbabilities[chosen_arm]) == 's' else 0 )\n",
    "    \n",
    "    totalReward = sum( [ i*j for i,j in zip( egAlgo.counts, egAlgo.values)] )\n",
    "    \n",
    "    totalRewardForEachEpsilon.append( (egAlgo.epsilon, totalReward) )\n",
    "    print ( \"total reward:- {0:.2f}\".format(  totalReward ) ,  \" => \",  egAlgo)\n",
    "\n",
    "import pandas\n",
    "rewardsDF = pandas.DataFrame( totalRewardForEachEpsilon, columns=[\"epsilon\", \"total_reward\"])\n",
    "\n",
    "import matplotlib.pyplot as plt\n",
    "plt.scatter(rewardsDF['epsilon'], rewardsDF['total_reward'])\n",
    "plt.title(\"epsilon - greedy algorithm\")\n",
    "plt.xlabel(\"epsilon\")\n",
    "plt.ylabel(\"total reward\")\n",
    "plt.show() # Depending on whether you use IPython or interactive mode, etc."
   ]
  },
  {
   "cell_type": "markdown",
   "metadata": {},
   "source": [
    "Comments:\n",
    "- Total reward is decreasing with increasing in epsilon, but unlike in above two cases here we do not see clear pattern b/w total reward and epsilion"
   ]
  },
  {
   "cell_type": "code",
   "execution_count": 8,
   "metadata": {},
   "outputs": [],
   "source": [
    "def epsilonGreedyPlots( successProbabilities, noOfTrails):\n",
    "    armsRewardForGivenTrial = lambda x : numpy.random.choice( (\"s\", \"f\"), p=[ x, 1-x])\n",
    "    totalRewardForEachEpsilon = []\n",
    "    for eEpsilon in numpy.arange(0.1, 1.1, 0.1):\n",
    "        egAlgo = EpsilonGreedy( eEpsilon )\n",
    "        egAlgo.initialize( len(successProbabilities) )\n",
    "        for ee in range(noOfTrails):\n",
    "            chosen_arm = egAlgo.select_arm() \n",
    "            egAlgo.update ( chosen_arm , 1 if armsRewardForGivenTrial(successProbabilities[chosen_arm]) == 's' else 0 )\n",
    "\n",
    "        totalReward = sum( [ i*j for i,j in zip( egAlgo.counts, egAlgo.values)] )\n",
    "\n",
    "        totalRewardForEachEpsilon.append( (egAlgo.epsilon, totalReward) )\n",
    "#         print ( \"total reward:- {0:.2f}\".format(  totalReward ) ,  \" => \",  egAlgo)\n",
    "\n",
    "    return pandas.DataFrame( totalRewardForEachEpsilon, columns=[\"epsilon\", \"total_reward\"])"
   ]
  },
  {
   "cell_type": "code",
   "execution_count": null,
   "metadata": {},
   "outputs": [
    {
     "data": {
      "image/png": "[encoded data removed]",
      "text/plain": [
       "<Figure size 432x288 with 1 Axes>"
      ]
     },
     "metadata": {
      "needs_background": "light"
     },
     "output_type": "display_data"
    },
    {
     "data": {
      "image/png": "[encoded data removed]",
      "text/plain": [
       "<Figure size 432x288 with 1 Axes>"
      ]
     },
     "metadata": {
      "needs_background": "light"
     },
     "output_type": "display_data"
    },
    {
     "data": {
      "image/png": "[encoded data removed]",
      "text/plain": [
       "<Figure size 432x288 with 1 Axes>"
      ]
     },
     "metadata": {
      "needs_background": "light"
     },
     "output_type": "display_data"
    },
    {
     "data": {
      "image/png": "[encoded data removed]",
      "text/plain": [
       "<Figure size 432x288 with 1 Axes>"
      ]
     },
     "metadata": {
      "needs_background": "light"
     },
     "output_type": "display_data"
    },
    {
     "data": {
      "image/png": "[encoded data removed]",
      "text/plain": [
       "<Figure size 432x288 with 1 Axes>"
      ]
     },
     "metadata": {
      "needs_background": "light"
     },
     "output_type": "display_data"
    },
    {
     "data": {
      "image/png": "[encoded data removed]",
      "text/plain": [
       "<Figure size 432x288 with 1 Axes>"
      ]
     },
     "metadata": {
      "needs_background": "light"
     },
     "output_type": "display_data"
    },
    {
     "data": {
      "image/png": "[encoded data removed]",
      "text/plain": [
       "<Figure size 432x288 with 1 Axes>"
      ]
     },
     "metadata": {
      "needs_background": "light"
     },
     "output_type": "display_data"
    },
    {
     "data": {
      "image/png": "[encoded data removed]",
      "text/plain": [
       "<Figure size 432x288 with 1 Axes>"
      ]
     },
     "metadata": {
      "needs_background": "light"
     },
     "output_type": "display_data"
    }
   ],
   "source": [
    "import numpy\n",
    "import matplotlib.pyplot as plt\n",
    "plt.figure(1 )\n",
    "\n",
    "noOfTrails = 100000\n",
    "\n",
    "successProbabilities = [ 0.01, 0.01 ] # Options success rates in Hindsight\n",
    "rewardsDF = epsilonGreedyPlots( successProbabilities, noOfTrails )\n",
    "plt.subplot(231)\n",
    "plt.plot(rewardsDF['epsilon'], rewardsDF['total_reward'], 'ro' )\n",
    "plt.title( \"eg with probs {!r}\". format(successProbabilities) )\n",
    "plt.xlabel(\"epsilon\")\n",
    "plt.ylabel(\"total reward\")\n",
    "\n",
    "plt.show() # Depending on whether you use IPython or interactive mode, etc.\n",
    "\n",
    "successProbabilities = [ 0.01, 0.011 ] # Options success rates in Hindsight\n",
    "rewardsDF = epsilonGreedyPlots( successProbabilities, noOfTrails )\n",
    "plt.subplot(232)\n",
    "plt.plot(rewardsDF['epsilon'], rewardsDF['total_reward'], 'ro')\n",
    "plt.title( \"eg with probs {!r}\". format(successProbabilities) )\n",
    "plt.xlabel(\"epsilon\")\n",
    "plt.ylabel(\"total reward\")\n",
    "plt.show() # Depending on whether you use IPython or interactive mode, etc.\n",
    "\n",
    "successProbabilities = [ 0.01, 0.012 ] # Options success rates in Hindsight\n",
    "rewardsDF = epsilonGreedyPlots( successProbabilities, noOfTrails)\n",
    "plt.subplot(233)\n",
    "plt.plot(rewardsDF['epsilon'], rewardsDF['total_reward'], 'ro')\n",
    "plt.title( \"eg with probs {!r}\". format(successProbabilities) )\n",
    "plt.xlabel(\"epsilon\")\n",
    "plt.ylabel(\"total reward\")\n",
    "plt.show() # Depending on whether you use IPython or interactive mode, etc.\n",
    "\n",
    "\n",
    "successProbabilities = [ 0.01, 0.013 ] # Options success rates in Hindsight\n",
    "rewardsDF = epsilonGreedyPlots( successProbabilities, noOfTrails )\n",
    "plt.subplot(234)\n",
    "plt.plot(rewardsDF['epsilon'], rewardsDF['total_reward'], 'ro')\n",
    "plt.title( \"eg with probs {!r}\". format(successProbabilities) )\n",
    "plt.xlabel(\"epsilon\")\n",
    "plt.ylabel(\"total reward\")\n",
    "plt.show() # Depending on whether you use IPython or interactive mode, etc.\n",
    "\n",
    "successProbabilities = [ 0.01, 0.016 ] # Options success rates in Hindsight\n",
    "rewardsDF = epsilonGreedyPlots( successProbabilities, noOfTrails )\n",
    "plt.subplot(235)\n",
    "plt.plot(rewardsDF['epsilon'], rewardsDF['total_reward'], 'ro')\n",
    "plt.title( \"eg with probs {!r}\". format(successProbabilities) )\n",
    "plt.xlabel(\"epsilon\")\n",
    "plt.ylabel(\"total reward\")\n",
    "plt.show() # Depending on whether you use IPython or interactive mode, etc.\n",
    "\n",
    "successProbabilities = [ 0.01, 0.02 ] # Options success rates in Hindsight\n",
    "rewardsDF = epsilonGreedyPlots( successProbabilities, noOfTrails )\n",
    "plt.subplot(236)\n",
    "plt.plot(rewardsDF['epsilon'], rewardsDF['total_reward'], 'ro')\n",
    "plt.title( \"eg with probs {!r}\". format(successProbabilities) )\n",
    "plt.xlabel(\"epsilon\")\n",
    "plt.ylabel(\"total reward\")\n",
    "plt.show() # Depending on whether you use IPython or interactive mode, etc.\n",
    "\n",
    "\n",
    "successProbabilities = [ 0.01, 0.023 ] # Options success rates in Hindsight\n",
    "rewardsDF = epsilonGreedyPlots( successProbabilities, noOfTrails )\n",
    "plt.subplot(236)\n",
    "plt.plot(rewardsDF['epsilon'], rewardsDF['total_reward'], 'ro')\n",
    "plt.title( \"eg with probs {!r}\". format(successProbabilities) )\n",
    "plt.xlabel(\"epsilon\")\n",
    "plt.ylabel(\"total reward\")\n",
    "plt.show() # Depending on whether you use IPython or interactive mode, etc.\n",
    "\n",
    "\n",
    "successProbabilities = [ 0.01, 0.026 ] # Options success rates in Hindsight\n",
    "rewardsDF = epsilonGreedyPlots( successProbabilities, noOfTrails )\n",
    "plt.subplot(236)\n",
    "plt.plot(rewardsDF['epsilon'], rewardsDF['total_reward'], 'ro')\n",
    "plt.title( \"eg with probs {!r}\". format(successProbabilities) )\n",
    "plt.xlabel(\"epsilon\")\n",
    "plt.ylabel(\"total reward\")\n",
    "plt.show() # Depending on whether you use IPython or interactive mode, etc.\n",
    "\n",
    "\n",
    "successProbabilities = [ 0.01, 0.029 ] # Options success rates in Hindsight\n",
    "rewardsDF = epsilonGreedyPlots( successProbabilities, noOfTrails )\n",
    "plt.subplot(236)\n",
    "plt.plot(rewardsDF['epsilon'], rewardsDF['total_reward'], 'ro')\n",
    "plt.title( \"eg with probs {!r}\". format(successProbabilities) )\n",
    "plt.xlabel(\"epsilon\")\n",
    "plt.ylabel(\"total reward\")\n",
    "plt.show() # Depending on whether you use IPython or interactive mode, etc.\n",
    "\n"
   ]
  },
  {
   "cell_type": "code",
   "execution_count": 13,
   "metadata": {},
   "outputs": [],
   "source": [
    "import random\n",
    "import numpy\n",
    "import math\n",
    "\n",
    "class AnnealingEpsilonGreedy():\n",
    "    \n",
    "    '''\n",
    "        This class implements epsilon-Greeey Multiarm Bandit algorithm\n",
    "    '''\n",
    "    def __init__( self, counts=[], values=[] ):\n",
    "        '''\n",
    "            epsilon : This will be a floating pointt number that tell us the frequency with which \n",
    "            we should explore one of the available arms.\n",
    "           \n",
    "            counts  : A vector of integers of length N that tells us how many time we have played \n",
    "            each of the N arms available to us in the current bandit problem.\n",
    "            \n",
    "            values  : A vector of floating point numbers that defines the average amount of reward we have gotten \n",
    "            when playing each of the N arms available to us.\n",
    "        '''\n",
    "#         self.epsilon = epsilon\n",
    "        self.counts = counts\n",
    "        self. values = values\n",
    "    def __repr__(self):\n",
    "        return 'AnnealingEpsilonGreedy({!r}, {!r})'.format( self.counts, self.values)\n",
    "    def updateEpsilon():\n",
    "        '''\n",
    "        Updates epsilon after each trail\n",
    "        '''\n",
    "        self.epsilon  -= (   numpy.power(self.epsilon, 4) )\n",
    "    def initialize(self, n_arms):\n",
    "        # Intializing / reset rewards & counts to zeros for each arm(or option)\n",
    "        self.counts = [ 0 for col in range(n_arms) ]\n",
    "        self.values = [ 0.0 for col in range(n_arms) ]\n",
    "    \n",
    "    def select_arm(self):\n",
    "        ''' Returns the index of the next arm to pull '''\n",
    "        t = sum(self.counts) + 1\n",
    "        epsilon = 1 / math.log(t + 0.0000001 )\n",
    "        \n",
    "        if random.random() > epsilon:\n",
    "            m = max( self.values  )            \n",
    "            if ( m > 0.0 ) :\n",
    "                return self.values.index(m)\n",
    "            else:\n",
    "                return random.randrange( len( self.values) )\n",
    "            \n",
    "        else:\n",
    "            return random.randrange( len( self.values) )\n",
    "        \n",
    "    \n",
    "    def update(self, chosen_arm, reward):\n",
    "        '''        \n",
    "        After we pull an arm, we get a reward signal back from our system. This function update our algorithm's beliefs\n",
    "        about the quality of the arm we just chose by providing this reward information.\n",
    "        \n",
    "        chosen_arm : The numeric index of the most recently chosen arm\n",
    "        reward     : The reward received from chossing that arm\n",
    "        '''\n",
    "        self.counts[ chosen_arm ] += 1\n",
    "        n = self.counts[ chosen_arm ]\n",
    "        value = self.values[chosen_arm]\n",
    "        new_value = ( ( n-1 ) * value + reward ) / float(n) \n",
    "        self.values[chosen_arm] = new_value\n",
    "    \n"
   ]
  },
  {
   "cell_type": "code",
   "execution_count": null,
   "metadata": {},
   "outputs": [],
   "source": []
  }
 ],
 "metadata": {
  "kernelspec": {
   "display_name": "Python 3",
   "language": "python",
   "name": "python3"
  },
  "language_info": {
   "codemirror_mode": {
    "name": "ipython",
    "version": 3
   },
   "file_extension": ".py",
   "mimetype": "text/x-python",
   "name": "python",
   "nbconvert_exporter": "python",
   "pygments_lexer": "ipython3",
   "version": "3.7.4"
  }
 },
 "nbformat": 4,
 "nbformat_minor": 2
}
