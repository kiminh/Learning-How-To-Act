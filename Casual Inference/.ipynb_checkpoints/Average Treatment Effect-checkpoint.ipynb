{
 "cells": [
  {
   "cell_type": "code",
   "execution_count": 3,
   "metadata": {},
   "outputs": [],
   "source": [
    "import numpy as np\n",
    "import pandas as pd\n",
    "from sklearn.linear_model import LinearRegression\n"
   ]
  },
  {
   "cell_type": "code",
   "execution_count": 48,
   "metadata": {},
   "outputs": [],
   "source": [
    "# Data Generation\n",
    "def generate_data(n=1000, seed=0, beta1=1.05, alpha1=0.4, alpha2=0.3, binary_treatment=True, binary_cutoff=3.5):\n",
    "    np.random.seed(seed)\n",
    "    age = np.random.normal(65, 5, n)\n",
    "    sodium = age / 18 + np.random.normal(size=n)\n",
    "    if binary_treatment:\n",
    "        if binary_cutoff is None:\n",
    "            binary_cutoff = sodium.mean()\n",
    "        sodium = (sodium > binary_cutoff).astype(int)\n",
    "\n",
    "    blood_pressure = beta1 * sodium + 2 * age + np.random.normal(size=n)\n",
    "    proteinurin = alpha1 * sodium + alpha2 * blood_pressure + np.random.normal(size=n)\n",
    "    hypertension = (blood_pressure >= 140).astype(int)  # not used, but could be used for binary outcomes\n",
    "        \n",
    "    outDF = pd.DataFrame(\n",
    "                    {\n",
    "                        'blood_pressure': blood_pressure, \n",
    "                        'sodium': sodium,\n",
    "                        'age': age, \n",
    "                        'proteinurin': proteinurin}\n",
    "            )\n",
    "        \n",
    "    return outDF       "
   ]
  },
  {
   "cell_type": "code",
   "execution_count": 37,
   "metadata": {},
   "outputs": [],
   "source": [
    "def estimate_causal_effect(Xt, y, model=LinearRegression(), treatment_idx=0, regression_coef=False):\n",
    "    model.fit(Xt, y)\n",
    "    if regression_coef:\n",
    "        return model.coef_[treatment_idx]\n",
    "    else:\n",
    "        Xt1 = pd.DataFrame.copy(Xt)\n",
    "        Xt1[Xt.columns[treatment_idx]] = 1\n",
    "        Xt0 = pd.DataFrame.copy(Xt)\n",
    "        Xt0[Xt.columns[treatment_idx]] = 0\n",
    "    \n",
    "    return (model.predict(Xt1) - model.predict(Xt0)).mean()\n"
   ]
  },
  {
   "cell_type": "code",
   "execution_count": 51,
   "metadata": {},
   "outputs": [],
   "source": [
    "binary_t_df = generate_data(beta1=1.05, alpha1=.4, alpha2=.3, binary_treatment=True, n=10000000)\n",
    "continuous_t_df = generate_data(beta1=1.05, alpha1=.4, alpha2=.3, binary_treatment=False, n=10000000)"
   ]
  },
  {
   "cell_type": "code",
   "execution_count": 49,
   "metadata": {},
   "outputs": [
    {
     "data": {
      "text/html": [
       "<div>\n",
       "<style scoped>\n",
       "    .dataframe tbody tr th:only-of-type {\n",
       "        vertical-align: middle;\n",
       "    }\n",
       "\n",
       "    .dataframe tbody tr th {\n",
       "        vertical-align: top;\n",
       "    }\n",
       "\n",
       "    .dataframe thead th {\n",
       "        text-align: right;\n",
       "    }\n",
       "</style>\n",
       "<table border=\"1\" class=\"dataframe\">\n",
       "  <thead>\n",
       "    <tr style=\"text-align: right;\">\n",
       "      <th></th>\n",
       "      <th>blood_pressure</th>\n",
       "      <th>sodium</th>\n",
       "      <th>age</th>\n",
       "      <th>proteinurin</th>\n",
       "    </tr>\n",
       "  </thead>\n",
       "  <tbody>\n",
       "    <tr>\n",
       "      <td>0</td>\n",
       "      <td>146.809261</td>\n",
       "      <td>1</td>\n",
       "      <td>73.820262</td>\n",
       "      <td>43.118187</td>\n",
       "    </tr>\n",
       "    <tr>\n",
       "      <td>1</td>\n",
       "      <td>133.145170</td>\n",
       "      <td>0</td>\n",
       "      <td>67.000786</td>\n",
       "      <td>37.669696</td>\n",
       "    </tr>\n",
       "    <tr>\n",
       "      <td>2</td>\n",
       "      <td>139.289640</td>\n",
       "      <td>0</td>\n",
       "      <td>69.893690</td>\n",
       "      <td>41.370320</td>\n",
       "    </tr>\n",
       "    <tr>\n",
       "      <td>3</td>\n",
       "      <td>153.894444</td>\n",
       "      <td>1</td>\n",
       "      <td>76.204466</td>\n",
       "      <td>47.021801</td>\n",
       "    </tr>\n",
       "    <tr>\n",
       "      <td>4</td>\n",
       "      <td>150.615711</td>\n",
       "      <td>1</td>\n",
       "      <td>74.337790</td>\n",
       "      <td>46.574317</td>\n",
       "    </tr>\n",
       "  </tbody>\n",
       "</table>\n",
       "</div>"
      ],
      "text/plain": [
       "   blood_pressure  sodium        age  proteinurin\n",
       "0      146.809261       1  73.820262    43.118187\n",
       "1      133.145170       0  67.000786    37.669696\n",
       "2      139.289640       0  69.893690    41.370320\n",
       "3      153.894444       1  76.204466    47.021801\n",
       "4      150.615711       1  74.337790    46.574317"
      ]
     },
     "execution_count": 49,
     "metadata": {},
     "output_type": "execute_result"
    }
   ],
   "source": [
    "binary_t_df.head(5)"
   ]
  },
  {
   "cell_type": "code",
   "execution_count": 50,
   "metadata": {},
   "outputs": [
    {
     "data": {
      "text/html": [
       "<div>\n",
       "<style scoped>\n",
       "    .dataframe tbody tr th:only-of-type {\n",
       "        vertical-align: middle;\n",
       "    }\n",
       "\n",
       "    .dataframe tbody tr th {\n",
       "        vertical-align: top;\n",
       "    }\n",
       "\n",
       "    .dataframe thead th {\n",
       "        text-align: right;\n",
       "    }\n",
       "</style>\n",
       "<table border=\"1\" class=\"dataframe\">\n",
       "  <thead>\n",
       "    <tr style=\"text-align: right;\">\n",
       "      <th></th>\n",
       "      <th>blood_pressure</th>\n",
       "      <th>sodium</th>\n",
       "      <th>age</th>\n",
       "      <th>proteinurin</th>\n",
       "    </tr>\n",
       "  </thead>\n",
       "  <tbody>\n",
       "    <tr>\n",
       "      <td>0</td>\n",
       "      <td>153.554832</td>\n",
       "      <td>5.984276</td>\n",
       "      <td>73.820262</td>\n",
       "      <td>47.153633</td>\n",
       "    </tr>\n",
       "  </tbody>\n",
       "</table>\n",
       "</div>"
      ],
      "text/plain": [
       "   blood_pressure    sodium        age  proteinurin\n",
       "0      153.554832  5.984276  73.820262    47.153633"
      ]
     },
     "execution_count": 50,
     "metadata": {},
     "output_type": "execute_result"
    }
   ],
   "source": [
    "generate_data(beta1=1.05, alpha1=.4, alpha2=.3, binary_treatment=False, n=100).head(1)"
   ]
  },
  {
   "cell_type": "code",
   "execution_count": null,
   "metadata": {},
   "outputs": [],
   "source": []
  }
 ],
 "metadata": {
  "kernelspec": {
   "display_name": "Python 3",
   "language": "python",
   "name": "python3"
  },
  "language_info": {
   "codemirror_mode": {
    "name": "ipython",
    "version": 3
   },
   "file_extension": ".py",
   "mimetype": "text/x-python",
   "name": "python",
   "nbconvert_exporter": "python",
   "pygments_lexer": "ipython3",
   "version": "3.7.4"
  }
 },
 "nbformat": 4,
 "nbformat_minor": 2
}
