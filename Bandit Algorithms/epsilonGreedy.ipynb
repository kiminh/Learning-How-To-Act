{
 "cells": [
  {
   "cell_type": "code",
   "execution_count": null,
   "metadata": {},
   "outputs": [],
   "source": [
    "import random\n",
    "import numpy"
   ]
  },
  {
   "cell_type": "code",
   "execution_count": 2,
   "metadata": {},
   "outputs": [],
   "source": [
    "\n",
    "class EpsilonGreedy():\n",
    "    \n",
    "    '''\n",
    "        This class implements epsilon-Greeey Multiarm Bandit algorithm\n",
    "    '''\n",
    "    def __init__( self, epsilon, counts=[], values=[] ):\n",
    "        '''\n",
    "            epsilon : This will be a floating point number that tell us the frequency with which \n",
    "            we should explore one of the available arms.\n",
    "           \n",
    "            counts  : A vector of integers of length N that tells us how many times we have played \n",
    "            each of the N arms available to us in the current bandit problem.\n",
    "            \n",
    "            values  : A vector of floating point numbers that defines the average amount of reward we have gotten \n",
    "            when playing each of the N arms available to us.\n",
    "        '''\n",
    "        self.epsilon = epsilon\n",
    "        self.counts  = counts\n",
    "        self. values = values\n",
    "        \n",
    "    def __repr__(self):\n",
    "        return 'EpsilonGreedy({:.2f},{!r}, {!r})'.format(self.epsilon, self.counts, self.values)\n",
    "    \n",
    "    def updateEpsilon(): # For annealing\n",
    "        '''\n",
    "        Updates epsilon after each trail\n",
    "        '''\n",
    "        self.epsilon  -= (   numpy.power(self.epsilon, 4) )\n",
    "\n",
    "    def initialize(self, n_arms):\n",
    "        # Intializing / reset rewards & counts to zeros for each arm(or option)\n",
    "        self.counts = [ 0   for col in range(n_arms) ]\n",
    "        self.values = [ 0.0 for col in range(n_arms) ]\n",
    "    \n",
    "    def select_arm(self):\n",
    "        ''' Returns the index of the next arm to pull '''\n",
    "        \n",
    "        if random.random() > self.epsilon: # Exploitation \n",
    "            m = max( self.values  )            \n",
    "            if ( m > 0.0 ) :\n",
    "                return self.values.index(m)\n",
    "            else:\n",
    "                return random.randrange( len( self.values) )            \n",
    "        else: # Exploration\n",
    "            return random.randrange( len( self.values) )\n",
    "        \n",
    "    \n",
    "    def update(self, chosen_arm, reward):\n",
    "        '''        \n",
    "        After we pull an arm, we get a reward signal back from our system. This function update our algorithm's beliefs\n",
    "        about the quality of the arm algoithm just chosen by providing this reward information.\n",
    "        \n",
    "        chosen_arm : The numeric index of the most recently chosen arm\n",
    "        reward     : The reward received from the chosen arm\n",
    "        '''\n",
    "        self.counts[ chosen_arm ] += 1\n",
    "        n = self.counts[ chosen_arm ]\n",
    "        value = self.values[chosen_arm]\n",
    "        new_value = ( ( n-1 ) * value + reward ) / float(n) \n",
    "        self.values[chosen_arm] = new_value\n",
    "    \n"
   ]
  },
  {
   "cell_type": "code",
   "execution_count": 6,
   "metadata": {},
   "outputs": [
    {
     "name": "stdout",
     "output_type": "stream",
     "text": [
      "Epsilon Greedy object for A/B testing framework:- \t EpsilonGreedy(1.00,[0, 0], [0.0, 0.0])\n",
      "Epsilon Greedy object for profit maximization:-   \t EpsilonGreedy(0.00,[0, 0], [0.0, 0.0])\n"
     ]
    }
   ],
   "source": [
    "# Explore - Exploit tradeoff :- completely explore ( A/B Testing )\n",
    "\n",
    "algo = EpsilonGreedy(1.0)\n",
    "algo.initialize(2)\n",
    "print ( \"Epsilon Greedy object for A/B testing framework:- \\t\", algo)\n",
    "\n",
    "algo.epsilon = 0\n",
    "print ( \"Epsilon Greedy object for profit maximization:-   \\t\", algo)\n",
    "\n",
    "\n"
   ]
  },
  {
   "cell_type": "code",
   "execution_count": 29,
   "metadata": {},
   "outputs": [],
   "source": [
    "?EpsilonGreedy.update"
   ]
  },
  {
   "cell_type": "markdown",
   "metadata": {},
   "source": [
    "#### When one of the arm is significantly better than the other arm ( like 50% more effective )"
   ]
  },
  {
   "cell_type": "code",
   "execution_count": 16,
   "metadata": {},
   "outputs": [
    {
     "name": "stdout",
     "output_type": "stream",
     "text": [
      "total reward:- 1530.00  =>  EpsilonGreedy(0.10,[5076, 94924], [0.009062253743104794, 0.015633559479162267])\n",
      "total reward:- 1427.00  =>  EpsilonGreedy(0.20,[18494, 81506], [0.009084027252081761, 0.015446715579221134])\n",
      "total reward:- 1380.00  =>  EpsilonGreedy(0.30,[25114, 74886], [0.00864059886915656, 0.015530272681142133])\n",
      "total reward:- 1414.00  =>  EpsilonGreedy(0.40,[20051, 79949], [0.00947583661662761, 0.015309759971982105])\n",
      "total reward:- 1439.00  =>  EpsilonGreedy(0.50,[25077, 74923], [0.011045978386569335, 0.01550925616966747])\n",
      "total reward:- 1343.00  =>  EpsilonGreedy(0.60,[30664, 69336], [0.010305243934255172, 0.014811930310372711])\n",
      "total reward:- 1366.00  =>  EpsilonGreedy(0.70,[35086, 64914], [0.009604970643561535, 0.015851742305204076])\n",
      "total reward:- 1334.00  =>  EpsilonGreedy(0.80,[40087, 59913], [0.009828622745528514, 0.01568941632033128])\n",
      "total reward:- 1309.00  =>  EpsilonGreedy(0.90,[44933, 55067], [0.01014844323770947, 0.01549022100350478])\n",
      "total reward:- 1200.00  =>  EpsilonGreedy(1.00,[50076, 49924], [0.009725217669142949, 0.014281708196458628])\n"
     ]
    },
    {
     "data": {
      "image/png": "[encoded data removed]",
      "text/plain": [
       "<Figure size 432x288 with 1 Axes>"
      ]
     },
     "metadata": {
      "needs_background": "light"
     },
     "output_type": "display_data"
    }
   ],
   "source": [
    "armsRewardForGivenTrial = lambda x : numpy.random.choice( (\"s\", \"f\"), p=[ x, 1-x])\n",
    "\n",
    "successProbabilities = [ 0.01, 0.015 ] # Options success rates in Hindsight\n",
    "\n",
    "totalRewardForEachEpsilon = []\n",
    "\n",
    "for eEpsilon in numpy.arange(0.1, 1.1, 0.1):\n",
    "    p = EpsilonGreedy( eEpsilon,[0,0],[0,0])\n",
    "    for ee in range(100000):\n",
    "        chosen_arm = p.select_arm() \n",
    "        p.update ( chosen_arm , 1 if armsRewardForGivenTrial(successProbabilities[chosen_arm]) == 's' else 0 )\n",
    "    \n",
    "    totalReward = sum( [ i*j for i,j in zip( p.counts, p.values)] )\n",
    "    \n",
    "    totalRewardForEachEpsilon.append( (p.epsilon, totalReward) )\n",
    "    print ( \"total reward:- {0:.2f}\".format(  totalReward ) ,  \" => \",  p)\n",
    "\n",
    "import pandas\n",
    "rewardsDF = pandas.DataFrame( totalRewardForEachEpsilon, columns=[\"epsilon\", \"total_reward\"])\n",
    "\n",
    "import matplotlib.pyplot as plt\n",
    "plt.scatter(rewardsDF['epsilon'], rewardsDF['total_reward'])\n",
    "plt.title(\"epsilon - greedy algorithm\")\n",
    "plt.xlabel(\"epsilon\")\n",
    "plt.ylabel(\"total reward\")\n",
    "plt.show() # Depending on whether you use IPython or interactive mode, etc."
   ]
  },
  {
   "cell_type": "markdown",
   "metadata": {},
   "source": [
    "Comments:\n",
    "- Total reward is decreasing with increasing epsilon, which means increasing in exploration has adverse affect on total reward "
   ]
  },
  {
   "cell_type": "markdown",
   "metadata": {},
   "source": [
    "#### When one of the arm is not so significantly better than the other arm ( like ~10% more effective )"
   ]
  },
  {
   "cell_type": "code",
   "execution_count": 33,
   "metadata": {},
   "outputs": [
    {
     "name": "stdout",
     "output_type": "stream",
     "text": [
      "total reward:- 1108.00  =>  EpsilonGreedy(0.10,[5723, 94277], [0.009959811287786141, 0.011148000042428247])\n",
      "total reward:- 1040.00  =>  EpsilonGreedy(0.20,[41129, 58871], [0.010211772715115855, 0.010531501078629577])\n",
      "total reward:- 1013.00  =>  EpsilonGreedy(0.30,[17327, 82673], [0.008830149477693753, 0.010402428846176938])\n",
      "total reward:- 1042.00  =>  EpsilonGreedy(0.40,[33997, 66003], [0.009353766508809567, 0.010969198369771147])\n",
      "total reward:- 1092.00  =>  EpsilonGreedy(0.50,[31359, 68641], [0.009821741764724648, 0.011421745021197235])\n",
      "total reward:- 1070.00  =>  EpsilonGreedy(0.60,[47212, 52788], [0.010209268829958483, 0.011138895203455327])\n",
      "total reward:- 979.00  =>  EpsilonGreedy(0.70,[37477, 62523], [0.008671985484430413, 0.010460150664555539])\n",
      "total reward:- 1098.00  =>  EpsilonGreedy(0.80,[54858, 45142], [0.011174304568157697, 0.010743874883700289])\n",
      "total reward:- 1060.00  =>  EpsilonGreedy(0.90,[47813, 52187], [0.010143684771923912, 0.01101806963420011])\n",
      "total reward:- 1086.00  =>  EpsilonGreedy(1.00,[50012, 49988], [0.010537471006958373, 0.011182683844122585])\n"
     ]
    },
    {
     "data": {
      "image/png": "[encoded data removed]",
      "text/plain": [
       "<Figure size 432x288 with 1 Axes>"
      ]
     },
     "metadata": {
      "needs_background": "light"
     },
     "output_type": "display_data"
    }
   ],
   "source": [
    "armsRewardForGivenTrial = lambda x : numpy.random.choice( (\"s\", \"f\"), p=[ x, 1-x]) # Bernoulli Arm\n",
    "\n",
    "\n",
    "successProbabilities = [ 0.01, 0.011 ] # Options success rates in Hindsight\n",
    "\n",
    "totalRewardForEachEpsilon = []\n",
    "\n",
    "for eEpsilon in numpy.arange(0.1, 1.1, 0.1):\n",
    "    egAlgo = EpsilonGreedy( eEpsilon,[0,0],[0,0])\n",
    "    for ee in range(100000):\n",
    "        chosen_arm = egAlgo.select_arm() \n",
    "        egAlgo.update ( chosen_arm , 1 if armsRewardForGivenTrial(successProbabilities[chosen_arm]) == 's' else 0 )\n",
    "    \n",
    "    totalReward = sum( [ i*j for i,j in zip( egAlgo.counts, egAlgo.values)] )\n",
    "    \n",
    "    totalRewardForEachEpsilon.append( (egAlgo.epsilon, totalReward) )\n",
    "    print ( \"total reward:- {0:.2f}\".format(  totalReward ) ,  \" => \",  egAlgo)\n",
    "\n",
    "import pandas\n",
    "rewardsDF = pandas.DataFrame( totalRewardForEachEpsilon, columns=[\"epsilon\", \"total_reward\"])\n",
    "\n",
    "import matplotlib.pyplot as plt\n",
    "plt.scatter(rewardsDF['epsilon'], rewardsDF['total_reward'])\n",
    "plt.title(\"epsilon - greedy algorithm\")\n",
    "plt.xlabel(\"epsilon\")\n",
    "plt.ylabel(\"total reward\")\n",
    "plt.show() # Depending on whether you use IPython or interactive mode, etc."
   ]
  },
  {
   "cell_type": "code",
   "execution_count": null,
   "metadata": {},
   "outputs": [],
   "source": []
  }
 ],
 "metadata": {
  "kernelspec": {
   "display_name": "Python 3",
   "language": "python",
   "name": "python3"
  },
  "language_info": {
   "codemirror_mode": {
    "name": "ipython",
    "version": 3
   },
   "file_extension": ".py",
   "mimetype": "text/x-python",
   "name": "python",
   "nbconvert_exporter": "python",
   "pygments_lexer": "ipython3",
   "version": "3.7.4"
  }
 },
 "nbformat": 4,
 "nbformat_minor": 2
}
