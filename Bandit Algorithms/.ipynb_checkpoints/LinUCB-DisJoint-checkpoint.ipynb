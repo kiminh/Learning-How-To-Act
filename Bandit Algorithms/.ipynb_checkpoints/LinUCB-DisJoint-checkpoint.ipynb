{
 "cells": [
  {
   "cell_type": "code",
   "execution_count": 1,
   "metadata": {},
   "outputs": [],
   "source": [
    "import random\n",
    "import numpy as np\n",
    "from collections import Counter\n",
    "import matplotlib.pyplot as plt\n",
    "import math"
   ]
  },
  {
   "cell_type": "markdown",
   "metadata": {},
   "source": [
    "For the data set, we will use the dataset from <a href='http://www.cs.columbia.edu/~jebara/6998/dataset.txt'>here</a>. The data set represents the logged data of a random policy on 10,000 subjects for a total of 10 arms and 100 covariates. "
   ]
  },
  {
   "cell_type": "code",
   "execution_count": 2,
   "metadata": {},
   "outputs": [],
   "source": [
    "# Context-Free Bandit implementation\n",
    "class UCB1():\n",
    "    def __init__(self, arm_ids) :\n",
    "        self.arm_ids = arm_ids\n",
    "        self.counts = {}\n",
    "        self.values = {}        \n",
    "        for idx, arm_id in enumerate(arm_ids):            \n",
    "            self.counts[arm_id] = 0\n",
    "            self.values[arm_id] = 0.0\n",
    "            \n",
    "    def __repr__(self):\n",
    "        return( \"UCB1({!r}{!r})\".format(self.counts, self.values))\n",
    "\n",
    "    def select_arm ( self ):\n",
    "        '''\n",
    "        Following few lines of code ensure ensure UCB does not have a cold start before it starts to \n",
    "        apply its confidence based decision rule'''\n",
    "        \n",
    "        for idx, arm_id in enumerate(self.arm_ids):\n",
    "            if self.counts[arm_id] == 0:\n",
    "                return arm_id\n",
    "    \n",
    "        \n",
    "        ucb = []\n",
    "        for idx, arm_id in enumerate(np.random.permutation(self.arm_ids)):\n",
    "            bonus = math.sqrt( 2 * math.log( sum( self.counts.values() ) ) ) / float( self.counts[arm_id] )\n",
    "            ucb.append( \n",
    "                (\n",
    "                    arm_id,\n",
    "                    self.values[arm_id] + bonus \n",
    "                )\n",
    "            ) \n",
    "        \n",
    "        '''\n",
    "            The most basic statement that can be made about it is that it augments the estimated value of any arm with a \n",
    "            measure of how less it knows an arm.\n",
    "            These rescaling terms allow the algorithm to define a confidence interval that has a reasonable chance of \n",
    "            containing the true value of the arm inside of it. UCB creates its ucb_values by replacing every arm's estimated\n",
    "            value with the upper bound on the confidence interval for its value.r\n",
    "            \n",
    "        '''\n",
    "        return( max(ucb,key=lambda x:x[1])[0] )            \n",
    "    \n",
    "    def update( self, chosen_arm, reward ):\n",
    "        self.counts[chosen_arm] += 1\n",
    "        n = self.counts[chosen_arm]\n",
    "        \n",
    "        value = self.values[ chosen_arm ]\n",
    "        new_value = ( (n-1)* value + reward ) / float(n)\n",
    "        self.values[chosen_arm] = new_value\n",
    "\n"
   ]
  },
  {
   "cell_type": "code",
   "execution_count": 3,
   "metadata": {},
   "outputs": [],
   "source": [
    "# Contextual Bandit: LinUCB-DisJoin\n",
    "class LinUCB():\n",
    "    '''\n",
    "        This class implements LinUCB Disjoint algorithm\n",
    "    '''\n",
    "    \n",
    "    def __init__( self,  arm_ids, alpha, ctxtVecLen):\n",
    "        \n",
    "        '''\n",
    "            alpha : Controls exploration; \n",
    "                    Higher the alpha, wider the confidence interval and higher the chance of trying any given arm;\n",
    "           \n",
    "            kArms: Number of arms\n",
    "            \n",
    "            ctxtVecLen: length of the feature vector\n",
    "            \n",
    "        '''\n",
    "        self.arm_ids    = arm_ids\n",
    "        self.kArms      = len(arm_ids)\n",
    "        self.alpha      = alpha\n",
    "        self.ctxtVecLen = ctxtVecLen\n",
    "        \n",
    "        # A: (ctxtVecLen x ctxtVecLen) matrix = D_a.T * D_a + I_d  ( Where a is indexing on arms array)\n",
    "        # The inverse of A is used in ridge regression \n",
    "        self.A_a = {}\n",
    "        for idx, arm_id in enumerate(arm_ids):\n",
    "            self.A_a[arm_id] = np.identity(ctxtVecLen) # A = D_T * D ( Where D is n*p matrix)\n",
    "\n",
    "        # b: (ctxtVecLen x 1) corresponding response vector. \n",
    "        # Equals to D_a.T * c_a in ridge regression formulation\n",
    "        self.b_a = {}\n",
    "        for idx, arm_id in enumerate(arm_ids):\n",
    "            self.b_a[arm_id] = np.zeros([ctxtVecLen,1]) # b = D_T * RV ( where RV is n*1 matrix )\n",
    "        \n",
    "    \n",
    "    def __repr__(self):\n",
    "        return f'LinUCB Object with {kArms} arms and with alpha {alpha}'.format(self.alpha, self.kArms, self.ctxtVecLen) \n",
    "    \n",
    "    def select_arm(self, ctxtVec, random_policy=False):\n",
    "        ''' Returns the index of the next arm to pull '''    \n",
    "        \n",
    "        # Reshape covariates input into (d x 1) shape vector\n",
    "        ctxtVec = ctxtVec.reshape([-1,1])\n",
    "\n",
    "        ucb = []\n",
    "        for idx, arm_id in enumerate(np.random.permutation(list(self.A_a.keys()) )):\n",
    "            # Find A inverse for ridge regression\n",
    "            A_inv = np.linalg.inv(self.A_a[arm_id])\n",
    "            \n",
    "            # Perform ridge regression to obtain estimate of covariate coefficients theta\n",
    "            # theta is (ctxtVecLen x 1) dimension vector\n",
    "            theta = np.dot(A_inv, self.b_a[arm_id])\n",
    "            \n",
    "            ucb.append( \n",
    "                (\n",
    "                    arm_id,\n",
    "                    (np.dot(theta.T, ctxtVec) + self.alpha * np.sqrt(np.dot(ctxtVec.T, np.dot(A_inv,ctxtVec))))[0][0] \n",
    "                )\n",
    "            )                \n",
    "        if random_policy == True:    \n",
    "            return np.random.choice(self.arm_ids)\n",
    "        else:\n",
    "            return( max(ucb,key=lambda x:x[1])[0] )            \n",
    "    \n",
    "    def update(self, ctxtVec, chosen_arm, reward):\n",
    "        '''        \n",
    "            After we pull an arm, we get a reward signal back from our system. This function update our algorithm's beliefs\n",
    "            about the quality of the arm we just chosen by providing this reward information.\n",
    "        \n",
    "            chosen_arm : The numeric index of the most recently chosen arm\n",
    "            reward     : The reward received from chossing that arm\n",
    "        '''\n",
    "        \n",
    "        # Reshape covariates input into (d x 1) shape vector\n",
    "        ctxtVec = ctxtVec.reshape([-1,1])        \n",
    "    \n",
    "        # Update A which is (d * d) matrix.\n",
    "        self.A_a[chosen_arm] += np.dot(ctxtVec, ctxtVec.T)\n",
    "        \n",
    "        # Update b which is (d x 1) vector\n",
    "        # reward is scalar\n",
    "        self.b_a[chosen_arm] += reward * ctxtVec                \n"
   ]
  },
  {
   "cell_type": "markdown",
   "metadata": {},
   "source": [
    "###### Context-Free LinUCB"
   ]
  },
  {
   "cell_type": "code",
   "execution_count": 4,
   "metadata": {},
   "outputs": [
    {
     "name": "stdout",
     "output_type": "stream",
     "text": [
      "Total Estimated Reward:\t 0.23473684210526316\n",
      "armSelCntr:  Counter({2: 752, 3: 43, 7: 32, 6: 25, 9: 21, 10: 21, 1: 14, 4: 14, 5: 14, 8: 14})\n",
      "armRewCntr:  Counter({2: 203.0, 3: 8.0, 7: 5.0, 6: 3.0, 9: 2.0, 10: 2.0, 1: 0.0, 4: 0.0, 5: 0.0, 8: 0.0})\n",
      "\n",
      "\n",
      "\n",
      "\n"
     ]
    }
   ],
   "source": [
    "# Context-Free LinUCB\n",
    "kArms = 10\n",
    "arms_ids = list( range(1, kArms+1))\n",
    "\n",
    "ucb_policy = UCB1(arms_ids )\n",
    "armSelCntr = Counter()\n",
    "armRewCntr = Counter()\n",
    "\n",
    "    \n",
    "with open('./dataset.txt') as fp:\n",
    "        for idx, eachRecord in enumerate(fp):\n",
    "            data_arm = int(eachRecord.split(' ')[0])\n",
    "            data_reward = float(eachRecord.split()[1])\n",
    "            covariate_string_list = eachRecord.split()[2:]        \n",
    "            data_x_array = np.array([float(eCov) for eCov in eachRecord.split()[2:]])\n",
    "            selected_arm = ucb_policy.select_arm( )\n",
    "\n",
    "            if selected_arm == data_arm:\n",
    "                armSelCntr[selected_arm] += 1\n",
    "                ucb_policy.update(selected_arm, data_reward) \n",
    "                armRewCntr[selected_arm] += data_reward     \n",
    "\n",
    "print('Total Estimated Reward:\\t', sum(armRewCntr.values())/sum(armSelCntr.values()) )\n",
    "print('armSelCntr: ', armSelCntr)\n",
    "print('armRewCntr: ', armRewCntr)\n",
    "print('\\n\\n\\n')"
   ]
  },
  {
   "cell_type": "markdown",
   "metadata": {},
   "source": [
    "##### Random Policy"
   ]
  },
  {
   "cell_type": "code",
   "execution_count": 6,
   "metadata": {},
   "outputs": [
    {
     "name": "stdout",
     "output_type": "stream",
     "text": [
      "Total Estimated Reward:\t 0.11834862385321102\n",
      "armSelCntr:  Counter({1: 127, 4: 115, 7: 113, 10: 113, 6: 112, 8: 111, 2: 110, 3: 101, 5: 94, 9: 94})\n",
      "armRewCntr:  Counter({2: 34.0, 9: 21.0, 7: 20.0, 3: 18.0, 6: 12.0, 8: 6.0, 5: 6.0, 4: 5.0, 10: 5.0, 1: 2.0})\n",
      "\n",
      "\n",
      "\n",
      "\n"
     ]
    }
   ],
   "source": [
    "# Random Policy\n",
    "ctxtVecLen = 100\n",
    "kArms = 10\n",
    "alpha = 1.0\n",
    "arms_ids = list( range(1, kArms+1))\n",
    "LinUCBPolicy = LinUCB(arms_ids, alpha, ctxtVecLen)        \n",
    "\n",
    "armSelCntr = Counter()\n",
    "armRewCntr = Counter()\n",
    "\n",
    "random_policy = True\n",
    "with open('./dataset.txt') as fp:\n",
    "        for idx, eachRecord in enumerate(fp):\n",
    "            data_arm = int(eachRecord.split(' ')[0])\n",
    "            data_reward = float(eachRecord.split()[1])\n",
    "            covariate_string_list = eachRecord.split()[2:]        \n",
    "            data_x_array = np.array([float(eCov) for eCov in eachRecord.split()[2:]])\n",
    "            selected_arm = LinUCBPolicy.select_arm( data_x_array, random_policy )\n",
    "\n",
    "            if selected_arm == data_arm:\n",
    "                armSelCntr[selected_arm] += 1\n",
    "                LinUCBPolicy.update(data_x_array, selected_arm, data_reward) \n",
    "                armRewCntr[selected_arm] += data_reward\n",
    "\n",
    "print('Total Estimated Reward:\\t', sum(armRewCntr.values())/sum(armSelCntr.values()) )\n",
    "print('armSelCntr: ', armSelCntr)\n",
    "print('armRewCntr: ', armRewCntr)\n",
    "print('\\n\\n\\n')"
   ]
  },
  {
   "cell_type": "markdown",
   "metadata": {},
   "source": [
    "##### Contextual Bandit: LinUCB-DisJoint"
   ]
  },
  {
   "cell_type": "code",
   "execution_count": 7,
   "metadata": {},
   "outputs": [
    {
     "name": "stdout",
     "output_type": "stream",
     "text": [
      "LinUCB Object with 10 arms and with alpha 0\n",
      "Total Estimated Reward:\t 0.8165680473372781\n",
      "armSelCntr:  Counter({2: 301, 7: 210, 3: 128, 9: 118, 6: 98, 4: 78, 8: 56, 1: 15, 5: 5, 10: 5})\n",
      "armRewCntr:  Counter({2: 255.0, 7: 194.0, 3: 114.0, 9: 103.0, 6: 80.0, 4: 51.0, 8: 28.0, 1: 3.0, 5: 0.0, 10: 0.0})\n",
      "\n",
      "\n",
      "\n",
      "\n",
      "LinUCB Object with 10 arms and with alpha 0.25\n",
      "Total Estimated Reward:\t 0.40763052208835343\n",
      "armSelCntr:  Counter({2: 174, 7: 120, 3: 104, 9: 100, 6: 88, 4: 84, 1: 82, 5: 82, 8: 81, 10: 81})\n",
      "armRewCntr:  Counter({2: 135.0, 7: 78.0, 3: 56.0, 9: 55.0, 6: 29.0, 4: 16.0, 5: 13.0, 8: 11.0, 10: 8.0, 1: 5.0})\n",
      "\n",
      "\n",
      "\n",
      "\n",
      "LinUCB Object with 10 arms and with alpha 0.5\n",
      "Total Estimated Reward:\t 0.26455566905005107\n",
      "armSelCntr:  Counter({2: 147, 7: 104, 9: 98, 3: 95, 6: 92, 4: 90, 10: 89, 1: 89, 5: 88, 8: 87})\n",
      "armRewCntr:  Counter({2: 99.0, 7: 48.0, 9: 34.0, 3: 33.0, 6: 17.0, 4: 9.0, 5: 6.0, 8: 5.0, 10: 4.0, 1: 4.0})\n",
      "\n",
      "\n",
      "\n",
      "\n",
      "LinUCB Object with 10 arms and with alpha 0.75\n",
      "Total Estimated Reward:\t 0.20636550308008214\n",
      "armSelCntr:  Counter({2: 131, 7: 100, 9: 95, 3: 94, 1: 94, 6: 94, 10: 92, 4: 92, 8: 91, 5: 91})\n",
      "armRewCntr:  Counter({2: 81.0, 7: 33.0, 9: 26.0, 3: 23.0, 6: 15.0, 5: 7.0, 8: 5.0, 4: 5.0, 10: 4.0, 1: 2.0})\n",
      "\n",
      "\n",
      "\n",
      "\n",
      "LinUCB Object with 10 arms and with alpha 1.0\n",
      "Total Estimated Reward:\t 0.19070208728652752\n",
      "armSelCntr:  Counter({2: 136, 7: 109, 9: 107, 3: 103, 4: 101, 6: 100, 8: 100, 10: 100, 1: 99, 5: 99})\n",
      "armRewCntr:  Counter({2: 70.0, 7: 37.0, 9: 32.0, 3: 27.0, 6: 15.0, 4: 5.0, 8: 5.0, 5: 4.0, 1: 3.0, 10: 3.0})\n",
      "\n",
      "\n",
      "\n",
      "\n",
      "LinUCB Object with 10 arms and with alpha 1.25\n",
      "Total Estimated Reward:\t 0.15734989648033126\n",
      "armSelCntr:  Counter({2: 114, 9: 97, 7: 96, 6: 96, 8: 95, 10: 95, 4: 94, 3: 94, 5: 93, 1: 92})\n",
      "armRewCntr:  Counter({2: 51.0, 7: 25.0, 9: 23.0, 3: 18.0, 6: 15.0, 4: 5.0, 5: 5.0, 10: 4.0, 8: 3.0, 1: 3.0})\n",
      "\n",
      "\n",
      "\n",
      "\n",
      "LinUCB Object with 10 arms and with alpha 1.5\n",
      "Total Estimated Reward:\t 0.15553235908141963\n",
      "armSelCntr:  Counter({2: 107, 3: 97, 9: 95, 5: 95, 7: 95, 8: 94, 4: 94, 1: 94, 6: 94, 10: 93})\n",
      "armRewCntr:  Counter({2: 46.0, 7: 29.0, 9: 22.0, 3: 19.0, 6: 12.0, 4: 5.0, 5: 5.0, 10: 4.0, 8: 4.0, 1: 3.0})\n",
      "\n",
      "\n",
      "\n",
      "\n"
     ]
    }
   ],
   "source": [
    "random_policy = False\n",
    "estimated_rewards_alphas = {}\n",
    "for alpha in [0, 0.25, 0.5, 0.75, 1.0, 1.25, 1.5]:\n",
    "#     alpha      = 0.25  # scalar factor on confidence interval ( higher the value higher the exploration )\n",
    "    ctxtVecLen = 100\n",
    "    arms_ids = list( range(1, kArms+1))\n",
    "    LinUCBPolicy = LinUCB(arms_ids, alpha, ctxtVecLen)        \n",
    "    print(LinUCBPolicy)\n",
    "\n",
    "    armSelCntr = Counter()\n",
    "    armRewCntr = Counter()\n",
    "\n",
    "    with open('./dataset.txt') as fp:\n",
    "        for idx, eachRecord in enumerate(fp):\n",
    "            data_arm = int(eachRecord.split(' ')[0])\n",
    "            data_reward = float(eachRecord.split()[1])\n",
    "            covariate_string_list = eachRecord.split()[2:]        \n",
    "            data_x_array = np.array([float(eCov) for eCov in eachRecord.split()[2:]])\n",
    "            selected_arm = LinUCBPolicy.select_arm( data_x_array, random_policy )\n",
    "\n",
    "            if selected_arm == data_arm:\n",
    "                armSelCntr[selected_arm] += 1\n",
    "                LinUCBPolicy.update(data_x_array, selected_arm, data_reward) \n",
    "                armRewCntr[selected_arm] += data_reward\n",
    "\n",
    "    print('Total Estimated Reward:\\t', sum(armRewCntr.values())/sum(armSelCntr.values()) )\n",
    "    print('armSelCntr: ', armSelCntr)\n",
    "    print('armRewCntr: ', armRewCntr)\n",
    "    print('\\n\\n\\n')\n",
    "    \n",
    "    estimated_rewards_alphas[alpha] = sum(armRewCntr.values())/sum(armSelCntr.values())"
   ]
  },
  {
   "cell_type": "code",
   "execution_count": 8,
   "metadata": {},
   "outputs": [
    {
     "data": {
      "image/png": "[encoded data removed]",
      "text/plain": [
       "<Figure size 432x288 with 1 Axes>"
      ]
     },
     "metadata": {
      "needs_background": "light"
     },
     "output_type": "display_data"
    }
   ],
   "source": [
    "alpha_estimated_rewards = list(estimated_rewards_alphas.items())\n",
    "alphas   = [alpha for alpha, avg_reward in (alpha_estimated_rewards)]\n",
    "avg_rwds = [avg_reward for alpha, avg_reward in (alpha_estimated_rewards)]\n",
    "\n",
    "plt.title('alpha vs. estimated average reward ')\n",
    "_ = plt.plot(alphas, avg_rwds)"
   ]
  },
  {
   "cell_type": "code",
   "execution_count": 11,
   "metadata": {},
   "outputs": [
    {
     "name": "stdout",
     "output_type": "stream",
     "text": [
      "LinUCB Object with 10 arms and with alpha 0.25\n",
      "0.4146341463414634\n"
     ]
    },
    {
     "data": {
      "image/png": "[encoded data removed]",
      "text/plain": [
       "<Figure size 432x288 with 1 Axes>"
      ]
     },
     "metadata": {
      "needs_background": "light"
     },
     "output_type": "display_data"
    }
   ],
   "source": [
    "random_policy = False\n",
    "\n",
    "\n",
    "for alpha in [0.25]:\n",
    "#     alpha      = 0.25  # scalar factor on confidence interval ( higher the value higher the exploration )\n",
    "    ctxtVecLen = 100\n",
    "    arms_ids = list( range(1, kArms+1))\n",
    "    LinUCBPolicy = LinUCB(arms_ids, alpha, ctxtVecLen)        \n",
    "    print(LinUCBPolicy)\n",
    "\n",
    "    armSelCntr = Counter()\n",
    "    armRewCntr = Counter()\n",
    "\n",
    "    estimatedRewards = []\n",
    "    with open('./dataset.txt') as fp:\n",
    "        for idx, eachRecord in enumerate(fp):\n",
    "            data_arm = int(eachRecord.split(' ')[0])\n",
    "            data_reward = float(eachRecord.split()[1])\n",
    "            covariate_string_list = eachRecord.split()[2:]        \n",
    "            data_x_array = np.array([float(eCov) for eCov in eachRecord.split()[2:]])\n",
    "            selected_arm = LinUCBPolicy.select_arm( data_x_array, random_policy )\n",
    "\n",
    "            if selected_arm == data_arm:\n",
    "                armSelCntr[selected_arm] += 1\n",
    "                LinUCBPolicy.update(data_x_array, selected_arm, data_reward) \n",
    "                armRewCntr[selected_arm] += data_reward                \n",
    "                estimatedRewards.append( sum(armRewCntr.values())/sum(armSelCntr.values()) )\n",
    "\n",
    "plt.title('Estimated avg. reward per trail (alpha: 0.25)')\n",
    "_ = plt.plot(estimatedRewards)                \n",
    "print(estimatedRewards[-1])"
   ]
  }
 ],
 "metadata": {
  "kernelspec": {
   "display_name": "Python 3",
   "language": "python",
   "name": "python3"
  },
  "language_info": {
   "codemirror_mode": {
    "name": "ipython",
    "version": 3
   },
   "file_extension": ".py",
   "mimetype": "text/x-python",
   "name": "python",
   "nbconvert_exporter": "python",
   "pygments_lexer": "ipython3",
   "version": "3.7.4"
  }
 },
 "nbformat": 4,
 "nbformat_minor": 2
}
