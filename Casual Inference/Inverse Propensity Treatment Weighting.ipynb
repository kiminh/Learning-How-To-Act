{
 "cells": [
  {
   "cell_type": "code",
   "execution_count": 1,
   "metadata": {},
   "outputs": [],
   "source": [
    "import numpy as np\n",
    "import random"
   ]
  },
  {
   "cell_type": "code",
   "execution_count": 26,
   "metadata": {},
   "outputs": [
    {
     "name": "stdout",
     "output_type": "stream",
     "text": [
      "[0.7783302494818553, 0.9873605726048108, 0.9846917286818313, 0.8700873279351334, 0.9731314424336748]\n",
      "[0.1694379191986893, 0.21494259157003973, 0.2143615999392034, 0.18941289570156103, 0.21184499359050651]\n",
      "[5.90186662306306, 4.652405057069142, 4.6650146308089555, 5.279471581362655, 4.720432534426498]\n"
     ]
    },
    {
     "data": {
      "text/plain": [
       "25.219190426730314"
      ]
     },
     "execution_count": 26,
     "metadata": {},
     "output_type": "execute_result"
    }
   ],
   "source": [
    "noOfArms = 5\n",
    "\n",
    "reward_rates = [random.random() for earm in range(noOfArms)]\n",
    "propensity_values   = [ reward/sum(reward_rates) for idx, reward in enumerate(reward_rates) ]\n",
    "inverse_prop_scores = [ 1.0 / prop_score for prop_score in propensity_values]\n",
    "print(reward_rates)\n",
    "print(propensity_values)\n",
    "print(inverse_prop_scores)\n",
    "sum(inverse_prop_scores)"
   ]
  },
  {
   "cell_type": "code",
   "execution_count": null,
   "metadata": {},
   "outputs": [],
   "source": []
  }
 ],
 "metadata": {
  "kernelspec": {
   "display_name": "Python 3",
   "language": "python",
   "name": "python3"
  },
  "language_info": {
   "codemirror_mode": {
    "name": "ipython",
    "version": 3
   },
   "file_extension": ".py",
   "mimetype": "text/x-python",
   "name": "python",
   "nbconvert_exporter": "python",
   "pygments_lexer": "ipython3",
   "version": "3.7.4"
  }
 },
 "nbformat": 4,
 "nbformat_minor": 2
}
