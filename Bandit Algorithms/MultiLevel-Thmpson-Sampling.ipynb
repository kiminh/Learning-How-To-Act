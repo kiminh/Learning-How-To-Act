{
 "cells": [
  {
   "cell_type": "code",
   "execution_count": 1,
   "metadata": {},
   "outputs": [],
   "source": [
    "from scipy.stats import beta"
   ]
  },
  {
   "cell_type": "code",
   "execution_count": 2,
   "metadata": {},
   "outputs": [],
   "source": [
    "PN_Types_Net = '''YouLike1 | Exploit | Personalized | RootNode\n",
    "YouLike2 | Exploit | Personalized | RootNode\n",
    "BecauseYouLike1 | Explore | Personalized | RootNode\n",
    "BecauseYouLike2 | Explore | Personalized | RootNode\n",
    "Supply1 | Non-Personalized | RootNode\n",
    "Supply2 | Non-Personalized | RootNode\n",
    "'''"
   ]
  },
  {
   "cell_type": "code",
   "execution_count": 4,
   "metadata": {},
   "outputs": [
    {
     "name": "stdout",
     "output_type": "stream",
     "text": [
      "['YouLike1', 'Exploit', 'Personalized', 'RootNode']\n",
      "['YouLike2', 'Exploit', 'Personalized', 'RootNode']\n",
      "['BecauseYouLike1', 'Explore', 'Personalized', 'RootNode']\n",
      "['BecauseYouLike2', 'Explore', 'Personalized', 'RootNode']\n",
      "['Supply1', 'Non-Personalized', 'RootNode']\n",
      "['Supply2', 'Non-Personalized', 'RootNode']\n",
      "['Supply3', 'Non-Personalized', 'RootNode']\n",
      "[]\n"
     ]
    }
   ],
   "source": [
    "for eachPN in PN_Types_Net.split('\\n'):\n",
    "    path = [eNode.strip() for eNode in eachPN.split('|') if len(eNode) > 1]\n",
    "    print(path)\n"
   ]
  },
  {
   "cell_type": "code",
   "execution_count": 1,
   "metadata": {},
   "outputs": [
    {
     "data": {
      "text/plain": [
       "{'PopType1': {'YouLike1': {'success': 30, 'failure': 970},\n",
       "  'YouLike2': {'success': 25, 'failure': 975},\n",
       "  'BecauseYouLike1': {'success': 20, 'failure': 980},\n",
       "  'BecauseYouLike2': {'success': 15, 'failure': 985},\n",
       "  'Supply1': {'success': 10, 'failure': 990}}}"
      ]
     },
     "execution_count": 1,
     "metadata": {},
     "output_type": "execute_result"
    }
   ],
   "source": [
    "# True Unknown(to MABs) CTRs\n",
    "PNsAlphaBeta = {}\n",
    "PNsAlphaBeta['PopType1'] = {}\n",
    "PNsAlphaBeta['PopType1']['YouLike1'] = {'success': 30, 'failure': 970}\n",
    "PNsAlphaBeta['PopType1']['YouLike2'] = {'success': 25, 'failure': 975}\n",
    "PNsAlphaBeta['PopType1']['BecauseYouLike1'] = {'success': 20, 'failure': 980}\n",
    "PNsAlphaBeta['PopType1']['BecauseYouLike2'] = {'success': 15, 'failure': 985}\n",
    "PNsAlphaBeta['PopType1']['Supply1'] = {'success': 10, 'failure': 990}\n",
    "\n",
    "PNsAlphaBeta"
   ]
  },
  {
   "cell_type": "code",
   "execution_count": 46,
   "metadata": {},
   "outputs": [],
   "source": [
    "ChildParentDict = {}\n",
    "ParentChildDict = {}\n",
    "PNs = []\n",
    "\n",
    "for eachPN in PN_Types_Net.split('\\n'):\n",
    "    path = [eNode.strip() for eNode in eachPN.split('|') if len(eNode) > 1]\n",
    "    if len(path) > 0:\n",
    "        PNs.append(path[0])\n",
    "    for child, parent in zip(path, path[1:]):\n",
    "        ChildParentDict[child]  = parent\n",
    "        if parent in ParentChildDict:\n",
    "            ParentChildDict[parent].add(child)\n",
    "        else:\n",
    "            ParentChildDict[parent] = {child}        "
   ]
  },
  {
   "cell_type": "code",
   "execution_count": 52,
   "metadata": {},
   "outputs": [
    {
     "data": {
      "text/plain": [
       "{'Exploit': {'YouLike1', 'YouLike2'},\n",
       " 'Personalized': {'Exploit', 'Explore'},\n",
       " 'RootNode': {'Non-Personalized', 'Personalized'},\n",
       " 'Explore': {'BecauseYouLike1', 'BecauseYouLike2'},\n",
       " 'Non-Personalized': {'Supply1'}}"
      ]
     },
     "execution_count": 52,
     "metadata": {},
     "output_type": "execute_result"
    }
   ],
   "source": [
    "ParentChildDict"
   ]
  },
  {
   "cell_type": "code",
   "execution_count": 53,
   "metadata": {},
   "outputs": [
    {
     "data": {
      "text/plain": [
       "{'YouLike1': 'Exploit',\n",
       " 'Exploit': 'Personalized',\n",
       " 'Personalized': 'RootNode',\n",
       " 'YouLike2': 'Exploit',\n",
       " 'BecauseYouLike1': 'Explore',\n",
       " 'Explore': 'Personalized',\n",
       " 'BecauseYouLike2': 'Explore',\n",
       " 'Supply1': 'Non-Personalized',\n",
       " 'Non-Personalized': 'RootNode'}"
      ]
     },
     "execution_count": 53,
     "metadata": {},
     "output_type": "execute_result"
    }
   ],
   "source": [
    "ChildParentDict"
   ]
  },
  {
   "cell_type": "code",
   "execution_count": null,
   "metadata": {},
   "outputs": [],
   "source": []
  }
 ],
 "metadata": {
  "kernelspec": {
   "display_name": "Python 3",
   "language": "python",
   "name": "python3"
  },
  "language_info": {
   "codemirror_mode": {
    "name": "ipython",
    "version": 3
   },
   "file_extension": ".py",
   "mimetype": "text/x-python",
   "name": "python",
   "nbconvert_exporter": "python",
   "pygments_lexer": "ipython3",
   "version": "3.7.4"
  }
 },
 "nbformat": 4,
 "nbformat_minor": 2
}
